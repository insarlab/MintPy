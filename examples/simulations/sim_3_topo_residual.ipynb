{
 "cells": [
  {
   "cell_type": "code",
   "execution_count": 3,
   "metadata": {},
   "outputs": [
    {
     "name": "stdout",
     "output_type": "stream",
     "text": [
      "Go to directory: /Users/yunjunz/development/python/2019_RSE_PYSAR/phaseCorrection_order\n",
      "open timeseries file: timeseries.h5\n"
     ]
    }
   ],
   "source": [
    "## Simulate 3D topographic residual phase timeseries\n",
    "\n",
    "%matplotlib inline\n",
    "import os\n",
    "import numpy as np\n",
    "from pysar.objects import timeseries, sensor\n",
    "from pysar.utils import readfile, writefile\n",
    "from pysar.simulation import simulation as sim\n",
    "from pysar.simulation.plot import *\n",
    "\n",
    "work_dir = os.path.expandvars('$PNOTE/phaseCorrection_order')\n",
    "os.chdir(work_dir)\n",
    "print('Go to directory: '+work_dir)\n",
    "\n",
    "# reference timeseries file for temp/perp baselines\n",
    "proj_dir = os.path.expanduser('~/insarlab/PYSAR_EXAMPLE/AlcedoSenDT128/PYSAR')\n",
    "ts_file      = os.path.join(proj_dir, 'timeseries.h5')\n",
    "geom_file    = os.path.join(proj_dir, 'INPUTS/geometryRadar.h5')\n",
    "dem_err_file = os.path.join(proj_dir, 'demErr.h5')\n",
    "sensorName = sensor.project_name2sensor_name(ts_file)[0]\n",
    "\n",
    "ts_obj = timeseries(ts_file)\n",
    "ts_obj.open()\n",
    "pbase = np.array(ts_obj.pbase)\n",
    "pbase -= pbase[0]\n",
    "num_date = ts_obj.numDate\n",
    "length = ts_obj.length\n",
    "width = ts_obj.width\n",
    "\n",
    "out_file = 'sim_topoResid.h5'"
   ]
  },
  {
   "cell_type": "code",
   "execution_count": 6,
   "metadata": {},
   "outputs": [
    {
     "name": "stdout",
     "output_type": "stream",
     "text": [
      "create timeseries HDF5 file: sim_topoResid.h5 with w mode\n",
      "create dataset /timeseries of float32    in size of (98, 646, 729) with compression=None\n",
      "create dataset /dates      of |S8        in size of (98,)\n",
      "create dataset /bperp      of float32    in size of (98,)\n",
      "finished writing to sim_topoResid.h5\n",
      "write simulated topographic residual time-series to file sim_topoResid.h5\n",
      "Done.\n"
     ]
    }
   ],
   "source": [
    "## 3D topographic residual\n",
    "if not os.path.isfile(out_file):\n",
    "    # read geometry\n",
    "    inc_angle = readfile.read(geom_file, datasetName='incidenceAngle')[0]\n",
    "    rg_dist   = readfile.read(geom_file, datasetName='slantRangeDistance')[0]\n",
    "    pbase *= 10. # amplify the noise\n",
    "    # calculate topo resid\n",
    "    dem_err = readfile.read(dem_err_file)[0]\n",
    "    ts_data = np.zeros((num_date, length, width), np.float32)\n",
    "    for i in range(num_date):\n",
    "        ts_data[i,:,:] = dem_err * pbase[i] / (rg_dist * np.sin(inc_angle * np.pi / 180.))\n",
    "    # write to file\n",
    "    writefile.write(ts_data, out_file=out_file, ref_file=ts_file)\n",
    "    print('write simulated topographic residual time-series to file', out_file)\n",
    "print('Done.')"
   ]
  },
  {
   "cell_type": "code",
   "execution_count": 5,
   "metadata": {},
   "outputs": [
    {
     "name": "stdout",
     "output_type": "stream",
     "text": [
      "\n",
      "******************** Display ********************\n",
      "input file is timeseries file: /Users/yunjunz/development/python/2019_RSE_PYSAR/phaseCorrection_order/sim_topoResid.h5 in float32 format\n",
      "file size in y/x: (646, 729)\n",
      "num of datasets in file sim_topoResid.h5: 98\n",
      "datasets to exclude (0):\n",
      "[]\n",
      "datasets to display (1):\n",
      "['timeseries-20150331']\n",
      "data   coverage in y/x: (0, 0, 729, 646)\n",
      "subset coverage in y/x: (0, 0, 729, 646)\n",
      "data   coverage in lat/lon: None\n",
      "subset coverage in lat/lon: None\n",
      "------------------------------------------------------------------------\n",
      "colormap: jet\n",
      "DESCENDING orbit\n",
      "figure title: timeseries-20150331\n",
      "figure size : [8.463622291021672, 6.0]\n",
      "read mask from file: maskTempCoh.h5\n",
      "reading data ...\n",
      "masking data\n",
      "data    range: [-6.7311964, 8.208577] cm\n",
      "display range: [-6.7311964, 8.208577] cm\n",
      "display data in transparency: 1.0\n",
      "plotting in Y/X coordinate ...\n",
      "plotting Data ...\n",
      "plot reference point\n",
      "flip figure left and right\n",
      "showing ...\n"
     ]
    }
   ],
   "source": [
    "!view.py $out_file -n 4"
   ]
  },
  {
   "cell_type": "code",
   "execution_count": null,
   "metadata": {
    "collapsed": true
   },
   "outputs": [],
   "source": []
  }
 ],
 "metadata": {
  "kernelspec": {
   "display_name": "Python 3",
   "language": "python",
   "name": "python3"
  },
  "language_info": {
   "codemirror_mode": {
    "name": "ipython",
    "version": 3
   },
   "file_extension": ".py",
   "mimetype": "text/x-python",
   "name": "python",
   "nbconvert_exporter": "python",
   "pygments_lexer": "ipython3",
   "version": "3.6.8"
  }
 },
 "nbformat": 4,
 "nbformat_minor": 2
}
