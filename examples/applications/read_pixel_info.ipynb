{
 "cells": [
  {
   "cell_type": "code",
   "execution_count": 1,
   "metadata": {},
   "outputs": [
    {
     "name": "stdout",
     "output_type": "stream",
     "text": [
      "open timeseries file: geo_timeseries_ECMWF_ramp_demErr_masked.h5\n"
     ]
    }
   ],
   "source": [
    "## Notebook example to read the time-series value / coordinate info\n",
    "\n",
    "% matplotlib inline\n",
    "import os\n",
    "import numpy as np\n",
    "import matplotlib.pyplot as plt\n",
    "from pysar.objects import timeseries\n",
    "from pysar.utils import readfile\n",
    "\n",
    "work_dir = os.path.expanduser('~/insarlab/PYSAR_EXAMPLE/FernandinaSenDT128/PYSAR/GEOCODE')\n",
    "ts_file  = os.path.join(work_dir, 'geo_timeseries_ECMWF_ramp_demErr_masked.h5')\n",
    "vel_file = os.path.join(work_dir, 'geo_velocity_masked.h5')\n",
    "\n",
    "ts_obj = timeseries(ts_file)\n",
    "ts_obj.open()\n",
    "\n",
    "def get_lat_lon(meta, mask=None):\n",
    "    \"\"\"extract lat/lon info of all grids into 2D matrix\n",
    "    Parameters: meta : dict, including X/Y_FIRST/STEP and LENGTH/WIDTH info\n",
    "    Returns:    lats : 2D np.array for latitude  in size of (length, width)\n",
    "                lons : 2D np.array for longitude in size of (length, width)\n",
    "    \"\"\"\n",
    "    # generate 2D matrix for lat/lon\n",
    "    lat_num = int(meta['LENGTH'])\n",
    "    lon_num = int(meta['WIDTH'])\n",
    "    lat0 = float(meta['Y_FIRST'])\n",
    "    lon0 = float(meta['X_FIRST'])\n",
    "    lat_step = float(meta['Y_STEP'])\n",
    "    lon_step = float(meta['X_STEP'])\n",
    "    lat1 = lat0 + lat_step * lat_num\n",
    "    lon1 = lon0 + lon_step * lon_num\n",
    "    lats, lons = np.mgrid[lat0:lat1:lat_num*1j,\n",
    "                          lon0:lon1:lon_num*1j]\n",
    "    return lats, lons"
   ]
  },
  {
   "cell_type": "code",
   "execution_count": 2,
   "metadata": {
    "scrolled": true
   },
   "outputs": [],
   "source": [
    "## read data\n",
    "# Time\n",
    "dates = np.array(ts_obj.times)                # 1D np.array of dates in datetime.datetime object in size of [num_date,]\n",
    "\n",
    "# Velocity / time-series\n",
    "vel = readfile.read(vel_file)[0]\n",
    "mask = ~np.isnan(vel)                         # matrix indicating valid pixels (True for valid, False for invalid)\n",
    "vel = readfile.read(vel_file)[0][mask]        # 1D np.array of velocity   in np.float32 in size of [num_pixel,] in meter/year\n",
    "ts = readfile.read(ts_file)[0][:, mask]       # 2D np.array of time-sries in np.float32 in size of [num_date, num_pixel] in meter\n",
    "\n",
    "# Spatial coordinates\n",
    "lats, lons = get_lat_lon(ts_obj.metadata)\n",
    "lats = lats[mask]                             # 1D np.array of latitude  in np.float32 in size of [num_pixel,] in degree\n",
    "lons = lons[mask]                             # 1D np.array of longitude in np.float32 in size of [num_pixel,] in degree"
   ]
  },
  {
   "cell_type": "code",
   "execution_count": 3,
   "metadata": {},
   "outputs": [
    {
     "name": "stdout",
     "output_type": "stream",
     "text": [
      "Latitude : -0.265259655920761 deg\n",
      "Longitude: -91.48614171932762 deg\n",
      "Velocity: 0.000273502\n",
      "Dates: [datetime.datetime(2014, 12, 13, 0, 0)\n",
      " datetime.datetime(2014, 12, 25, 0, 0) datetime.datetime(2015, 3, 7, 0, 0)\n",
      " datetime.datetime(2015, 3, 19, 0, 0) datetime.datetime(2015, 3, 31, 0, 0)\n",
      " datetime.datetime(2015, 4, 12, 0, 0) datetime.datetime(2015, 4, 24, 0, 0)\n",
      " datetime.datetime(2015, 5, 6, 0, 0) datetime.datetime(2015, 5, 18, 0, 0)\n",
      " datetime.datetime(2015, 5, 30, 0, 0) datetime.datetime(2015, 6, 11, 0, 0)\n",
      " datetime.datetime(2015, 6, 23, 0, 0) datetime.datetime(2015, 7, 17, 0, 0)\n",
      " datetime.datetime(2015, 7, 29, 0, 0) datetime.datetime(2015, 8, 22, 0, 0)\n",
      " datetime.datetime(2015, 9, 3, 0, 0) datetime.datetime(2015, 9, 15, 0, 0)\n",
      " datetime.datetime(2015, 9, 27, 0, 0) datetime.datetime(2015, 10, 9, 0, 0)\n",
      " datetime.datetime(2015, 10, 21, 0, 0)\n",
      " datetime.datetime(2015, 11, 2, 0, 0)\n",
      " datetime.datetime(2015, 11, 14, 0, 0)\n",
      " datetime.datetime(2015, 11, 26, 0, 0)\n",
      " datetime.datetime(2015, 12, 8, 0, 0)\n",
      " datetime.datetime(2015, 12, 20, 0, 0) datetime.datetime(2016, 1, 1, 0, 0)\n",
      " datetime.datetime(2016, 1, 13, 0, 0) datetime.datetime(2016, 1, 25, 0, 0)\n",
      " datetime.datetime(2016, 2, 6, 0, 0) datetime.datetime(2016, 2, 18, 0, 0)\n",
      " datetime.datetime(2016, 3, 1, 0, 0) datetime.datetime(2016, 4, 6, 0, 0)\n",
      " datetime.datetime(2016, 4, 18, 0, 0) datetime.datetime(2016, 4, 30, 0, 0)\n",
      " datetime.datetime(2016, 5, 12, 0, 0) datetime.datetime(2016, 5, 24, 0, 0)\n",
      " datetime.datetime(2016, 6, 5, 0, 0) datetime.datetime(2016, 6, 29, 0, 0)\n",
      " datetime.datetime(2016, 7, 11, 0, 0) datetime.datetime(2016, 7, 23, 0, 0)\n",
      " datetime.datetime(2016, 8, 4, 0, 0) datetime.datetime(2016, 8, 16, 0, 0)\n",
      " datetime.datetime(2016, 8, 28, 0, 0) datetime.datetime(2016, 9, 9, 0, 0)\n",
      " datetime.datetime(2016, 9, 21, 0, 0) datetime.datetime(2016, 10, 3, 0, 0)\n",
      " datetime.datetime(2016, 10, 15, 0, 0)\n",
      " datetime.datetime(2016, 10, 27, 0, 0)\n",
      " datetime.datetime(2016, 11, 8, 0, 0)\n",
      " datetime.datetime(2016, 11, 20, 0, 0)\n",
      " datetime.datetime(2016, 12, 2, 0, 0)\n",
      " datetime.datetime(2016, 12, 14, 0, 0)\n",
      " datetime.datetime(2016, 12, 26, 0, 0) datetime.datetime(2017, 1, 7, 0, 0)\n",
      " datetime.datetime(2017, 1, 19, 0, 0) datetime.datetime(2017, 1, 31, 0, 0)\n",
      " datetime.datetime(2017, 2, 12, 0, 0) datetime.datetime(2017, 2, 24, 0, 0)\n",
      " datetime.datetime(2017, 3, 8, 0, 0) datetime.datetime(2017, 3, 20, 0, 0)\n",
      " datetime.datetime(2017, 4, 1, 0, 0) datetime.datetime(2017, 4, 13, 0, 0)\n",
      " datetime.datetime(2017, 4, 25, 0, 0) datetime.datetime(2017, 5, 7, 0, 0)\n",
      " datetime.datetime(2017, 5, 19, 0, 0) datetime.datetime(2017, 5, 31, 0, 0)\n",
      " datetime.datetime(2017, 6, 12, 0, 0) datetime.datetime(2017, 6, 24, 0, 0)\n",
      " datetime.datetime(2017, 7, 6, 0, 0) datetime.datetime(2017, 7, 18, 0, 0)\n",
      " datetime.datetime(2017, 7, 30, 0, 0) datetime.datetime(2017, 8, 11, 0, 0)\n",
      " datetime.datetime(2017, 8, 23, 0, 0) datetime.datetime(2017, 9, 4, 0, 0)\n",
      " datetime.datetime(2017, 9, 16, 0, 0) datetime.datetime(2017, 9, 28, 0, 0)\n",
      " datetime.datetime(2017, 10, 10, 0, 0)\n",
      " datetime.datetime(2017, 10, 22, 0, 0)\n",
      " datetime.datetime(2017, 11, 3, 0, 0)\n",
      " datetime.datetime(2017, 11, 15, 0, 0)\n",
      " datetime.datetime(2017, 11, 27, 0, 0)\n",
      " datetime.datetime(2017, 12, 9, 0, 0)\n",
      " datetime.datetime(2017, 12, 21, 0, 0) datetime.datetime(2018, 1, 2, 0, 0)\n",
      " datetime.datetime(2018, 1, 14, 0, 0) datetime.datetime(2018, 1, 26, 0, 0)\n",
      " datetime.datetime(2018, 2, 7, 0, 0) datetime.datetime(2018, 2, 19, 0, 0)\n",
      " datetime.datetime(2018, 3, 3, 0, 0) datetime.datetime(2018, 3, 15, 0, 0)\n",
      " datetime.datetime(2018, 3, 27, 0, 0) datetime.datetime(2018, 4, 8, 0, 0)\n",
      " datetime.datetime(2018, 4, 20, 0, 0) datetime.datetime(2018, 5, 2, 0, 0)\n",
      " datetime.datetime(2018, 5, 14, 0, 0) datetime.datetime(2018, 5, 26, 0, 0)\n",
      " datetime.datetime(2018, 6, 7, 0, 0) datetime.datetime(2018, 6, 19, 0, 0)]\n",
      "Displacement time-series: [ 6.63024560e-03 -4.13715374e-03 -1.03769675e-02 -3.16500803e-03\n",
      " -4.82962839e-03 -9.02282633e-03 -1.23488950e-03  1.86101324e-03\n",
      "  2.25435430e-03 -1.06015801e-03  0.00000000e+00 -2.29122490e-03\n",
      "  4.91793966e-03  7.76979607e-04  2.29636510e-03 -4.09619417e-03\n",
      "  4.86385543e-04  1.54628966e-03 -3.00774677e-03 -6.13049511e-03\n",
      " -9.64975916e-05  1.00754038e-03  3.29314149e-03  9.67114046e-03\n",
      "  5.76067297e-03  2.46163923e-03  4.97639831e-03  7.31565524e-04\n",
      "  9.00870562e-03  5.15285460e-03 -3.42784263e-03 -4.32355795e-04\n",
      "  1.24475965e-03  2.14703521e-03  1.02646300e-03  2.06094095e-03\n",
      "  1.74209266e-03  7.59516843e-05  3.04242969e-03  1.84639683e-03\n",
      " -1.16295088e-03 -3.74976080e-05  3.34240217e-03  2.58538872e-04\n",
      " -8.18500994e-04 -8.48209392e-03  3.03870533e-04 -4.85086069e-03\n",
      "  1.31521886e-03 -6.36643078e-03  1.87893258e-03  3.09939124e-03\n",
      "  3.70718259e-03  1.13107415e-03 -1.39138848e-03  5.82154421e-03\n",
      "  1.56690599e-04  4.90047690e-03 -3.68391164e-04  1.45196461e-03\n",
      "  2.78280349e-04  3.67943314e-03  6.96906354e-05  1.68012455e-03\n",
      "  4.08811448e-03  2.40697572e-03  1.01024983e-04  1.49239146e-03\n",
      " -1.91748189e-03  3.67534580e-04 -5.73110301e-04 -2.47408636e-03\n",
      "  3.05419392e-03  1.68152596e-03 -4.28553019e-03  2.51426827e-04\n",
      " -2.02460960e-03 -3.03868111e-03 -2.62368703e-04 -6.54127914e-04\n",
      " -2.10884260e-03 -2.49993196e-03  1.15625712e-03  2.11060559e-03\n",
      "  4.37621959e-04  1.67555106e-03 -1.71234738e-03 -3.57262790e-04\n",
      "  7.77468411e-03  2.49003456e-03  2.81673763e-03 -1.36844069e-03\n",
      "  1.22816872e-03  1.32626737e-03  1.38590136e-03 -4.47420264e-03\n",
      "  6.88410364e-06  2.99115386e-03]\n"
     ]
    }
   ],
   "source": [
    "# For example, here is the information of the 101 pixel for example\n",
    "idx = 100\n",
    "print('Latitude : {} deg'.format(lats[idx]))\n",
    "print('Longitude: {} deg'.format(lons[idx]))\n",
    "print('Velocity:', vel[idx])\n",
    "print('Dates:', dates)\n",
    "print('Displacement time-series:', ts[:, idx])"
   ]
  },
  {
   "cell_type": "code",
   "execution_count": 4,
   "metadata": {},
   "outputs": [
    {
     "data": {
      "image/png": "[encoded data removed]",
      "text/plain": [
       "<Figure size 432x288 with 1 Axes>"
      ]
     },
     "metadata": {
      "needs_background": "light"
     },
     "output_type": "display_data"
    }
   ],
   "source": [
    "# This is how the time-series looks like\n",
    "plt.figure()\n",
    "plt.plot(dates, ts[:,idx], '.')\n",
    "plt.show()"
   ]
  },
  {
   "cell_type": "code",
   "execution_count": 5,
   "metadata": {},
   "outputs": [
    {
     "data": {
      "image/png": "[encoded data removed]",
      "text/plain": [
       "<Figure size 432x288 with 1 Axes>"
      ]
     },
     "metadata": {
      "needs_background": "light"
     },
     "output_type": "display_data"
    }
   ],
   "source": [
    "# This is how the data looks like in velocity map\n",
    "plt.figure()\n",
    "plt.imshow(readfile.read(vel_file)[0], cmap='jet')\n",
    "plt.show()"
   ]
  },
  {
   "cell_type": "code",
   "execution_count": null,
   "metadata": {},
   "outputs": [],
   "source": []
  }
 ],
 "metadata": {
  "kernelspec": {
   "display_name": "Python 3",
   "language": "python",
   "name": "python3"
  },
  "language_info": {
   "codemirror_mode": {
    "name": "ipython",
    "version": 3
   },
   "file_extension": ".py",
   "mimetype": "text/x-python",
   "name": "python",
   "nbconvert_exporter": "python",
   "pygments_lexer": "ipython3",
   "version": "3.6.8"
  }
 },
 "nbformat": 4,
 "nbformat_minor": 2
}
