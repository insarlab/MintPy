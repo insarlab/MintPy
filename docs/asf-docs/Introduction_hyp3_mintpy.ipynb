{
 "cells": [
  {
   "cell_type": "markdown",
   "metadata": {},
   "source": [
    "# Introduction to time-series analysis of HyP3 product with MintPy"
   ]
  },
  {
   "cell_type": "markdown",
   "metadata": {},
   "source": [
    "1. Introduction\n",
    "This notebook shows you how to do time-series analysis against HyP3 product with MintPy. This tutorial assumes that you have already successfully installed the MintPy and created the conda environment.\n",
    "Detail installation info is refferered at https://github.com/insarlab/MintPy."
   ]
  },
  {
   "cell_type": "markdown",
   "metadata": {},
   "source": [
    "2. Run the application"
   ]
  },
  {
   "cell_type": "markdown",
   "metadata": {},
   "source": [
    "Before running the program, some package need to be installed and imported."
   ]
  },
  {
   "cell_type": "code",
   "execution_count": null,
   "metadata": {},
   "outputs": [],
   "source": [
    "!conda install -y -c conda-forge hyp3_sdk"
   ]
  },
  {
   "cell_type": "code",
   "execution_count": null,
   "metadata": {},
   "outputs": [],
   "source": [
    "import os\n",
    "import re\n",
    "import glob\n",
    "import zipfile\n",
    "import numpy as np\n",
    "import hyp3_sdk as sdk",
   ]
  },
  {
   "cell_type": "markdown",
   "metadata": {},
   "source": [
    "2.1. Download the hyp3 data"
   ]
  },
  {
   "cell_type": "markdown",
   "metadata": {},
   "source": [
    "Set the home directory, project name, output directory, and granule_list file. The granule_list file includes the RTC file names that users wants to use them to produce the interferograms for the time-series analysis purpose. Users\n",
    "usually provide this file preapred with ASF vertex (https://serach.asf.alaska.edu)."
   ]
  },
  {
   "cell_type": "code",
   "execution_count": null,
   "metadata": {},
   "outputs": [],
   "source": [
    "hyp3_mintpy_home = \"/home/jzhu4/projects/work/hyp3/hyp3-mintpy\"\n",
    "projectname = \"case5\"\n",
    "outdir = \"/media/jzhu4/data/hyp3-mintpy/case5\"\n",
    "granule_list = \"/media/jzhu4/data/hyp3-mintpy/case5/granule.dat\"\n",
    "os.chdir(outdir)"
   ]
  },
  {
   "cell_type": "markdown",
   "metadata": {},
   "source": [
    "User autentication"
   ]
  },
  {
   "cell_type": "code",
   "execution_count": null,
   "metadata": {},
   "outputs": [],
   "source": [
    "hyp3 = sdk.HyP3(prompt = True)"
   ]
  },
  {
   "cell_type": "markdown",
   "metadata": {},
   "source": [
    "Submit the jobs with hyp3-sdk and download the files "
   ]
  },
  {
   "cell_type": "code",
   "execution_count": null,
   "metadata": {},
   "outputs": [],
   "source": [
    "def run_job(hyp3, granule_list_file, projectname, outdir):\n",
    "    #read the granulelist file\n",
    "    with open(granule_list_file) as f:\n",
    "        lines = f.read().splitlines()\n",
    "\n",
    "    num = len(lines)\n",
    "    reference_id = lines[num-1]  \n",
    "    insar_jobs = sdk.Batch()\n",
    "    \n",
    "    for i in range(num-2, 0, -1):\n",
    "        secondary_id = lines[i]\n",
    "        job_name = projectname\n",
    "        insar_jobs += hyp3.submit_insar_job(reference_id, secondary_id, job_name,\n",
    "                                            include_inc_map=True, include_dem=True)\n",
    "\n",
    "    # wait until completion and get updated information (which will take a fair bit)\n",
    "    insar_jobs = hyp3.watch(insar_jobs)\n",
    "\n",
    "    #download the jobs files\n",
    "    os.system(\"mkdir -p {}\".format(outdir))\n",
    "    os.chdir(outdir)\n",
    "    insar_jobs.download_files()\n",
    "    print(\"completed ...\")\n",
    "\n",
    "run_job(hyp3, granule_list, projectname, outdir)\n",
    "print(\"downloaded the insar zip files are stored at {}.format(outdir)\")"
   ]
  },
  {
   "cell_type": "markdown",
   "metadata": {},
   "source": [
    "2.2 Configure the custom cfg file in the outdir"
   ]
  },
  {
   "cell_type": "code",
   "execution_count": null,
   "metadata": {},
   "outputs": [],
   "source": [
    "def config(template_file, data_dir, projectname):\n",
    "    '''\n",
    "    read in the template, produce the custom.txt and place inti inputs\n",
    "    '''\n",
    "    out_lines=[]\n",
    "    with open(template_file) as file:\n",
    "        lines = file.readlines()\n",
    "\n",
    "    for line in lines:\n",
    "        out_lines.append(line.replace('{DATA_DIR}', data_dir))\n",
    "        \n",
    "    outfile = \"{}/{}.cfg\".format(data_dir, projectname)\n",
    "    out_fid = open(outfile, 'w')\n",
    "    out_fid.write(\"\".join(out_lines))\n",
    "    return outfile\n",
    "\n",
    "template_file =\"/home/jzhu4/projects/work/hyp3/hyp3-mintpy/docs/hyp3_mintpy_template.cfg\"\n",
    "config_file = config(template_file, outdir, projectname)"
   ]
  },
  {
   "cell_type": "markdown",
   "metadata": {},
   "source": [
    "Show the cunstom cfg file  "
   ]
  },
  {
   "cell_type": "code",
   "execution_count": null,
   "metadata": {},
   "outputs": [],
   "source": [
    "f=open(config_file)\n",
    "lines = f.readlines()\n",
    "print(\"\\n\".join(lines))\n",
    "f.close()"
   ]
  },
  {
   "cell_type": "markdown",
   "metadata": {},
   "source": [
    "2.3 organize the data into the structure that MintPy requests"
   ]
  },
  {
   "cell_type": "markdown",
   "metadata": {},
   "source": [
    "2.3.1 unzip zip files in the current directory"
   ]
  },
  {
   "cell_type": "code",
   "execution_count": null,
   "metadata": {},
   "outputs": [],
   "source": [
    "def get_sublist_via_pattern(lst, pattern_str):\n",
    "    pattern = re.compile(pattern_str)\n",
    "    return list(filter(pattern.search, lst))\n",
    "\n",
    "#unzip zip files in current directory\n",
    "filelist = glob.glob(\"{}/*.zip\".format(outdir))\n",
    "# split the filelist into two lists\n",
    "p1 = \"/[A-Z][0-9][A-Z][A-Z]_\"\n",
    "filelist1 = get_sublist_via_pattern(filelist, p1)\n",
    "for file in filelist1:\n",
    "    with zipfile.ZipFile(file, \"r\") as zip_ref:\n",
    "        zip_ref.extractall(outdir)"
   ]
  },
  {
   "cell_type": "markdown",
   "metadata": {},
   "source": [
    "2.3.2 clip the geotiff files in the current directory and its subdirectories"
   ]
  },
  {
   "cell_type": "markdown",
   "metadata": {},
   "source": [
    "Define cutGeotiffsByLine function"
   ]
  },
  {
   "cell_type": "code",
   "execution_count": null,
   "metadata": {},
   "outputs": [],
   "source": [
    "from __future__ import print_function, absolute_import, division, unicode_literals\n",
    "from osgeo import gdal\n",
    "\n",
    "def open_gdal_file(filename):\n",
    "    handle = gdal.Open(filename)\n",
    "    return handle\n",
    "\n",
    "def read_gdal_file_geo(filehandle, band=1):\n",
    "    geotransform = filehandle.GetGeoTransform()\n",
    "    geoproj = filehandle.GetProjection()\n",
    "    return filehandle.RasterXSize, filehandle.RasterYSize, geotransform, geoproj\n",
    "\n",
    "def getOrigins(files):\n",
    "\n",
    "    ul = np.zeros((2,len(files)))\n",
    "    lr = np.zeros((2,len(files)))\n",
    "\n",
    "    for i in range(len(files)):\n",
    "        x,y,trans,proj = read_gdal_file_geo(open_gdal_file(files[i]))\n",
    "        ul[0,i] = trans[0]\n",
    "        lr[0,i] = trans[0] + x*trans[1]\n",
    "        ul[1,i] = trans[3]\n",
    "        lr[1,i] = trans[3] + y*trans[5]\n",
    "\n",
    "    return ul,lr,trans[1],trans[5]\n",
    "\n",
    "def copyOrigins(files,all_coords,all_pixsize):\n",
    "    ul = np.zeros((2,len(files)))\n",
    "    lr = np.zeros((2,len(files)))\n",
    "\n",
    "    for i in range(len(files)):\n",
    "        coords = all_coords[i]\n",
    "        ul[0,i] = coords[0]\n",
    "        lr[0,i] = coords[2]\n",
    "        ul[1,i] = coords[1]\n",
    "        lr[1,i] = coords[3]\n",
    " \n",
    "        if i == 0:\n",
    "            xres = all_pixsize[i]\n",
    "            yres = all_pixsize[i]\n",
    "\n",
    "    return ul,lr,xres,yres\n",
    "\n",
    "def cutGeotiffsByLine(files):\n",
    "    ul,lr,xres,yres = getOrigins(files)\n",
    "    \n",
    "    diff_ul = np.zeros((2,len(files)))\n",
    "    diff_ul[0] = (max(ul[0])-ul[0])/xres    \n",
    "    diff_ul[1] = -1*(min(ul[1])-ul[1])/(-1*yres)\n",
    "\n",
    "    print(\"Difference list:\")\n",
    "    print(diff_ul)\n",
    "\n",
    "    lrx = min(lr[0])\n",
    "    lry = max(lr[1])\n",
    "    lenx = (lrx-max(ul[0])) / xres\n",
    "    leny = -1*(lry-min(ul[1])) / (-1*yres)\n",
    "    if leny < 0:\n",
    "        leny = abs(leny)\n",
    "        diff_ul[1] = diff_ul[1] * -1\n",
    "    print(\"Size of output images {} x {}\".format(lenx, leny))\n",
    "\n",
    "    outfiles = []   \n",
    "    for i in range(len(files)):\n",
    "        outfile = files[i].replace(\".tif\",\"_clip.tif\")\n",
    "        print(\"Processing file {} to create file {}\".format(files[i], outfile))\n",
    "        gdal.Translate(outfile,files[i],srcWin=[diff_ul[0,i],diff_ul[1,i],lenx,leny])\n",
    "        outfiles.append(outfile)\n",
    "\n",
    "    return(outfiles)"
   ]
  },
  {
   "cell_type": "markdown",
   "metadata": {},
   "source": [
    "Clip the files"
   ]
  },
  {
   "cell_type": "code",
   "execution_count": null,
   "metadata": {},
   "outputs": [],
   "source": [
    "# get files to be clipped in the outdir and its sub-directories.\n",
    "files = []\n",
    "pattern = [\"*.tif\"]                      \n",
    "for dir,_,_ in os.walk(outdir):\n",
    "    for item in pattern:\n",
    "        files.extend(glob.glob(os.path.join(dir, item)))\n",
    "# clip off files\n",
    "cutGeotiffsByLine(files)    "
   ]
  },
  {
   "cell_type": "markdown",
   "metadata": {},
   "source": [
    "2.3.3 Copy metadata file and dem file to DEM subdirectory"
   ]
  },
  {
   "cell_type": "code",
   "execution_count": null,
   "metadata": {},
   "outputs": [],
   "source": [
    "# copy the *.txt and dem.tif in one subdirctory to DEM subdirectory\n",
    "os.system(\"mkdir -p {}/DEM {}/inputs\".format(outdir, outdir))\n",
    "prefix = filelist1[-1].split('.zip')[0]\n",
    "fileprefix = os.path.basename(prefix)\n",
    "txtfile = \"{dir}/{fileprefix}.txt\".format(dir = prefix, fileprefix = fileprefix)\n",
    "demfile = \"{dir}/{fileprefix}_dem_clip.tif\".format(dir = prefix, fileprefix = fileprefix)\n",
    "\n",
    "cmd1 = \"cp {file} {data_dir}/DEM/dem_clip.txt\".format(file = txtfile, data_dir = outdir)\n",
    "os.system(cmd1)\n",
    "cmd2 = \"cp {file} {data_dir}/DEM/dem_clip.tif\".format(file = demfile, data_dir = outdir)    \n",
    "os.system(cmd2)"
   ]
  },
  {
   "cell_type": "code",
   "execution_count": null,
   "metadata": {},
   "outputs": [],
   "source": [
    "print(\"prepared data are at {}\".format(outdir))"
   ]
  },
  {
   "cell_type": "markdown",
   "metadata": {},
   "source": [
    "Prepared data structure are:"
   ]
  },
  {
   "cell_type": "code",
   "execution_count": null,
   "metadata": {},
   "outputs": [],
   "source": [
    "import subprocess\n",
    "process = subprocess.run(\"tree {}\".format(outdir), shell=True, check=True, stdout=subprocess.PIPE, universal_newlines=True)\n",
    "output=process.stdout\n",
    "print(output)"
   ]
  },
  {
   "cell_type": "markdown",
   "metadata": {},
   "source": [
    "2.4 Run Time-series Analysis application\n"
   ]
  },
  {
   "cell_type": "code",
   "execution_count": null,
   "metadata": {},
   "outputs": [],
   "source": [
    "from mintpy import smallbaselineApp\n",
    "argv =[]\n",
    "argv.append(config_file)\n",
    "smallbaselineApp.main(argv)"
   ]
  },
  {
   "cell_type": "markdown",
   "metadata": {},
   "source": [
    "2.5 Display the analysis results\n",
    "\n",
    "There are a few scripts used to display the analysis results. There are in the MINTPY_HOME/mintpy. Here we show two majoy disaply scripts."
   ]
  },
  {
   "cell_type": "markdown",
   "metadata": {},
   "source": [
    "2.5.1 Disaply velocity of displacement\n"
   ]
  },
  {
   "cell_type": "code",
   "execution_count": null,
   "metadata": {},
   "outputs": [],
   "source": [
    "from mintpy import view\n",
    "file = \"velocity.h5\"\n",
    "argv =[]\n",
    "argv.append(file)"
   ]
  },
  {
   "cell_type": "code",
   "execution_count": null,
   "metadata": {
    "scrolled": true
   },
   "outputs": [],
   "source": [
    "%matplotlib notebook\n",
    "view.main(argv)"
   ]
  },
  {
   "cell_type": "markdown",
   "metadata": {},
   "source": [
    "2.5.2 Display the time-series of displacement"
   ]
  },
  {
   "cell_type": "code",
   "execution_count": null,
   "metadata": {},
   "outputs": [],
   "source": [
    "from mintpy import tsview\n",
    "\n",
    "os.chdir(outdir)\n",
    "\n",
    "file=\"timeseries.h5\"\n",
    "argv =[]\n",
    "argv.append(file)"
   ]
  },
  {
   "cell_type": "code",
   "execution_count": null,
   "metadata": {},
   "outputs": [],
   "source": [
    "%matplotlib notebook\n",
    "tsview.main(argv)"
   ]
  },
  {
   "cell_type": "code",
   "execution_count": null,
   "metadata": {},
   "outputs": [],
   "source": []
  }
 ],
 "metadata": {
  "kernelspec": {
   "display_name": "mintpy",
   "language": "python",
   "name": "mintpy"
  },
  "language_info": {
   "codemirror_mode": {
    "name": "ipython",
    "version": 3
   },
   "file_extension": ".py",
   "mimetype": "text/x-python",
   "name": "python",
   "nbconvert_exporter": "python",
   "pygments_lexer": "ipython3",
   "version": "3.8.10"
  }
 },
 "nbformat": 4,
 "nbformat_minor": 4
}
