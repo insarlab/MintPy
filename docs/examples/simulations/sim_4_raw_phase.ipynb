{
 "cells": [
  {
   "cell_type": "markdown",
   "metadata": {},
   "source": [
    "## 4. Sum up all phase constributions for 3D raw phase time-series ##"
   ]
  },
  {
   "cell_type": "code",
   "execution_count": 1,
   "metadata": {},
   "outputs": [
    {
     "name": "stdout",
     "output_type": "stream",
     "text": [
      "Go to directory: /Users/yunjunz/development/python/Yunjun_et_al-2019\n",
      "open timeseries file: timeseries.h5\n"
     ]
    }
   ],
   "source": [
    "## Simulate 3D raw phase time-series by summing up all the components\n",
    "%matplotlib inline\n",
    "import os\n",
    "import numpy as np\n",
    "from mintpy.objects import timeseries, sensor\n",
    "from mintpy.utils import readfile, writefile\n",
    "from mintpy.simulation.plot import *\n",
    "\n",
    "work_dir = os.path.expanduser('~/development/python/Yunjun_et_al-2019')\n",
    "os.chdir(work_dir)\n",
    "print('Go to directory: '+work_dir)\n",
    "\n",
    "# reference timeseries file for temp/perp baselines\n",
    "proj_dir = os.path.expanduser('~/insarlab/Galapagos/AlcedoSenDT128/mintpy')\n",
    "sensorName = sensor.project_name2sensor_name(proj_dir)[0]\n",
    "ref_file   = os.path.join(proj_dir, 'timeseries.h5')\n",
    "ts_obj = timeseries(ref_file)\n",
    "ts_obj.open()\n",
    "num_date = ts_obj.numDate\n",
    "length = ts_obj.length\n",
    "width = ts_obj.width\n",
    "\n",
    "# components\n",
    "ecmwf_file = os.path.join(proj_dir, 'inputs/ECMWF.h5')\n",
    "merra_file = os.path.join(proj_dir, 'inputs/MERRA.h5')\n",
    "sim_turb_file = os.path.join(work_dir, 'sim_tropTurbulence.h5')\n",
    "sim_defo_file = os.path.join(work_dir, 'sim_displacement.h5')\n",
    "sim_topo_file = os.path.join(work_dir, 'sim_topoResid.h5')\n",
    "ramp_file  = os.path.join(proj_dir, 'ramp.h5')\n",
    "\n",
    "out_file = 'sim_rawPhase.h5'"
   ]
  },
  {
   "cell_type": "code",
   "execution_count": 3,
   "metadata": {},
   "outputs": [
    {
     "name": "stdout",
     "output_type": "stream",
     "text": [
      "reading time-series data from file MERRA.h5\n",
      "reading time-series data from file sim_tropTurbulence.h5\n",
      "reading time-series data from file sim_topoResid.h5\n",
      "reading time-series data from file ramp.h5\n",
      "reading time-series data from file sim_displacement.h5\n",
      "create timeseries HDF5 file: sim_rawPhase.h5 with w mode\n",
      "create dataset /timeseries of float32    in size of (98, 646, 729) with compression=None\n",
      "create dataset /dates      of |S8        in size of (98,)\n",
      "create dataset /bperp      of float32    in size of (98,)\n",
      "finished writing to sim_rawPhase.h5\n",
      "write simulated raw phase time-series to file sim_rawPhase.h5\n",
      "Done.\n"
     ]
    }
   ],
   "source": [
    "# 3D raw phase time-series\n",
    "if not os.path.isfile(out_file):\n",
    "    ts_data = np.zeros((num_date, length, width), dtype=np.float32)\n",
    "    for fname in [merra_file, sim_turb_file, sim_topo_file, ramp_file, sim_defo_file]:\n",
    "        print('reading time-series data from file', os.path.basename(fname))\n",
    "        data = readfile.read(fname)[0]\n",
    "        ts_data += data\n",
    "    # write to file\n",
    "    writefile.write(ts_data, out_file=out_file, ref_file=ref_file)\n",
    "    print('write simulated raw phase time-series to file', out_file)\n",
    "print('Done.')"
   ]
  },
  {
   "cell_type": "code",
   "execution_count": null,
   "metadata": {
    "collapsed": true
   },
   "outputs": [],
   "source": []
  }
 ],
 "metadata": {
  "kernelspec": {
   "display_name": "Python 3",
   "language": "python",
   "name": "python3"
  },
  "language_info": {
   "codemirror_mode": {
    "name": "ipython",
    "version": 3
   },
   "file_extension": ".py",
   "mimetype": "text/x-python",
   "name": "python",
   "nbconvert_exporter": "python",
   "pygments_lexer": "ipython3",
   "version": "3.6.8"
  }
 },
 "nbformat": 4,
 "nbformat_minor": 2
}
