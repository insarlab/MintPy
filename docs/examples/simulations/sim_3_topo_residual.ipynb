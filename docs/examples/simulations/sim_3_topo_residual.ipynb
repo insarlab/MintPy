{
 "cells": [
  {
   "cell_type": "markdown",
   "metadata": {},
   "source": [
    "## 3. Simulate 3D topographic residual phase from existing demErr.h5 file ##"
   ]
  },
  {
   "cell_type": "code",
   "execution_count": 1,
   "metadata": {},
   "outputs": [
    {
     "name": "stdout",
     "output_type": "stream",
     "text": [
      "Go to directory: /Users/yunjunz/development/python/Yunjun_et_al-2019\n",
      "open timeseries file: timeseries.h5\n"
     ]
    }
   ],
   "source": [
    "%matplotlib inline\n",
    "import os\n",
    "import numpy as np\n",
    "from mintpy.objects import timeseries, sensor\n",
    "from mintpy.utils import readfile, writefile\n",
    "from mintpy.simulation import simulation as sim\n",
    "from mintpy.simulation.plot import *\n",
    "\n",
    "work_dir = os.path.expanduser('~/development/python/Yunjun_et_al-2019')\n",
    "os.chdir(work_dir)\n",
    "print('Go to directory: '+work_dir)\n",
    "\n",
    "# reference timeseries file for temp/perp baselines\n",
    "proj_dir = os.path.expanduser('~/insarlab/Galapagos/AlcedoSenDT128/mintpy')\n",
    "ts_file      = os.path.join(proj_dir, 'timeseries.h5')\n",
    "geom_file    = os.path.join(proj_dir, 'inputs/geometryRadar.h5')\n",
    "dem_err_file = os.path.join(proj_dir, 'demErr.h5')\n",
    "sensorName = sensor.project_name2sensor_name(ts_file)[0]\n",
    "\n",
    "ts_obj = timeseries(ts_file)\n",
    "ts_obj.open()\n",
    "pbase = np.array(ts_obj.pbase)\n",
    "pbase -= pbase[0]\n",
    "num_date = ts_obj.numDate\n",
    "length = ts_obj.length\n",
    "width = ts_obj.width\n",
    "\n",
    "out_file = 'sim_topoResid.h5'"
   ]
  },
  {
   "cell_type": "code",
   "execution_count": 2,
   "metadata": {},
   "outputs": [
    {
     "name": "stdout",
     "output_type": "stream",
     "text": [
      "create timeseries HDF5 file: sim_topoResid.h5 with w mode\n",
      "create dataset /timeseries of float32    in size of (98, 646, 729) with compression=None\n",
      "create dataset /dates      of |S8        in size of (98,)\n",
      "create dataset /bperp      of float32    in size of (98,)\n",
      "finished writing to sim_topoResid.h5\n",
      "write simulated topographic residual time-series to file sim_topoResid.h5\n",
      "Done.\n"
     ]
    }
   ],
   "source": [
    "## 3D topographic residual\n",
    "if not os.path.isfile(out_file):\n",
    "    # read geometry\n",
    "    inc_angle = readfile.read(geom_file, datasetName='incidenceAngle')[0]\n",
    "    rg_dist   = readfile.read(geom_file, datasetName='slantRangeDistance')[0]\n",
    "    pbase *= 10. # amplify the noise\n",
    "    # calculate topo resid\n",
    "    dem_err = readfile.read(dem_err_file)[0]\n",
    "    ts_data = np.zeros((num_date, length, width), np.float32)\n",
    "    for i in range(num_date):\n",
    "        ts_data[i,:,:] = dem_err * pbase[i] / (rg_dist * np.sin(inc_angle * np.pi / 180.))\n",
    "    # write to file\n",
    "    writefile.write(ts_data, out_file=out_file, ref_file=ts_file)\n",
    "    print('write simulated topographic residual time-series to file', out_file)\n",
    "print('Done.')"
   ]
  },
  {
   "cell_type": "code",
   "execution_count": 4,
   "metadata": {},
   "outputs": [
    {
     "name": "stdout",
     "output_type": "stream",
     "text": [
      "run view.py in MintPy release version v1.1.1-12, release date 2019-05-10\n",
      "input file is timeseries file: /Users/yunjunz/development/python/Yunjun_et_al-2019/sim_topoResid.h5 in float32 format\n",
      "file size in y/x: (646, 729)\n",
      "num of datasets in file sim_topoResid.h5: 98\n",
      "datasets to exclude (0):\n",
      "[]\n",
      "datasets to display (1):\n",
      "['timeseries-20150331']\n",
      "data   coverage in y/x: (0, 0, 729, 646)\n",
      "subset coverage in y/x: (0, 0, 729, 646)\n",
      "data   coverage in lat/lon: None\n",
      "subset coverage in lat/lon: None\n",
      "------------------------------------------------------------------------\n",
      "colormap: jet\n",
      "DESCENDING orbit -> flip left-right\n",
      "figure title: timeseries-20150331\n",
      "figure size : [8.463622291021672, 6.0]\n",
      "reading data ...\n",
      "data    range: [-6.7311964, 8.208577] cm\n",
      "display range: [-6.7311964, 8.208577] cm\n",
      "display data in transparency: 1.0\n",
      "plotting in Y/X coordinate ...\n",
      "plotting Data ...\n",
      "plot reference point\n",
      "flip figure left and right\n",
      "save figure to timeseries-20150331.png with dpi=300\n"
     ]
    }
   ],
   "source": [
    "!view.py {out_file} -n 4 --nodisplay"
   ]
  },
  {
   "cell_type": "code",
   "execution_count": null,
   "metadata": {
    "collapsed": true
   },
   "outputs": [],
   "source": []
  }
 ],
 "metadata": {
  "kernelspec": {
   "display_name": "Python 3",
   "language": "python",
   "name": "python3"
  },
  "language_info": {
   "codemirror_mode": {
    "name": "ipython",
    "version": 3
   },
   "file_extension": ".py",
   "mimetype": "text/x-python",
   "name": "python",
   "nbconvert_exporter": "python",
   "pygments_lexer": "ipython3",
   "version": "3.6.8"
  }
 },
 "nbformat": 4,
 "nbformat_minor": 2
}
