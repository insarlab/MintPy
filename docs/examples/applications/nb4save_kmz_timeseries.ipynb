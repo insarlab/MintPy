{
 "cells": [
  {
   "cell_type": "markdown",
   "metadata": {},
   "source": [
    "## Data handling for save_kmz_timeseries ##\n",
    "\n",
    "This notebook is to facilitate the development of save_kmz_timeseries.py to handle data reading and segmentation."
   ]
  },
  {
   "cell_type": "code",
   "execution_count": 1,
   "metadata": {},
   "outputs": [
    {
     "name": "stdout",
     "output_type": "stream",
     "text": [
      "open timeseries file: geo_timeseries_ERA5_ramp_demErr.h5\n"
     ]
    }
   ],
   "source": [
    "## Notebook example to read the time-series value / coordinate info\n",
    "%matplotlib inline\n",
    "import os\n",
    "import numpy as np\n",
    "from matplotlib import pyplot as plt\n",
    "from matplotlib.patches import Rectangle\n",
    "from mintpy.objects import timeseries, deramp\n",
    "from mintpy.utils import readfile, utils as ut\n",
    "\n",
    "work_dir = os.path.expanduser('~/insarlab/test/FernandinaSenDT128/mintpy/geo')\n",
    "ts_file  = os.path.join(work_dir, 'geo_timeseries_ERA5_ramp_demErr.h5')\n",
    "vel_file = os.path.join(work_dir, 'geo_velocity.h5')\n",
    "mask_file= os.path.join(work_dir, 'geo_maskTempCoh.h5')\n",
    "\n",
    "ts_obj = timeseries(ts_file)\n",
    "ts_obj.open()\n",
    "\n",
    "##--------------------------- Utility functions -----------------------##\n",
    "def get_lat_lon(meta, mask=None):\n",
    "    \"\"\"extract lat/lon info of all grids into 2D matrix\n",
    "    Parameters: meta : dict, including X/Y_FIRST/STEP and LENGTH/WIDTH info\n",
    "    Returns:    lats : 2D np.array for latitude  in size of (length, width)\n",
    "                lons : 2D np.array for longitude in size of (length, width)\n",
    "    \"\"\"\n",
    "    # generate 2D matrix for lat/lon\n",
    "    lat_num = int(meta['LENGTH'])\n",
    "    lon_num = int(meta['WIDTH'])\n",
    "    lat0 = float(meta['Y_FIRST'])\n",
    "    lon0 = float(meta['X_FIRST'])\n",
    "    lat_step = float(meta['Y_STEP'])\n",
    "    lon_step = float(meta['X_STEP'])\n",
    "    lat1 = lat0 + lat_step * lat_num\n",
    "    lon1 = lon0 + lon_step * lon_num\n",
    "    lats, lons = np.mgrid[lat0:lat1:lat_num*1j,\n",
    "                          lon0:lon1:lon_num*1j]\n",
    "    return lats, lons\n",
    "\n",
    "\n",
    "def get_boxes4deforming_area(vel_file, mask_file, win_size=30, min_percentage=0.2,\n",
    "                             ramp_type='quadratic', display=False):\n",
    "    \"\"\"Get list of boxes to cover the deforming areas. \n",
    "    A pixel is identified as deforming if its velocity exceeds the MAD of the whole image.\n",
    "    Parameters: vel_file : str, path of velocity file\n",
    "                mask_file : str, path of mask file\n",
    "                win_size  : int, length and width of the output box\n",
    "                min_percentage : float between 0 and 1, minimum percentage of deforming points in the box\n",
    "                ramp_type : str, type of phase ramps to be removed while evaluating the deformation\n",
    "                display   : bool, plot the identification result or not\n",
    "    Returns:    box_list  : list of t-tuple of int, each indicating (col0, row0, col1, row1)\n",
    "    \"\"\"\n",
    "    print('-'*30)\n",
    "    print('get boxes on deforming areas')\n",
    "    mask = readfile.read(mask_file)[0]\n",
    "    vel, atr = readfile.read(vel_file)\n",
    "    print('removing a {} phase ramp from input velocity before the evaluation'.format(ramp_type))\n",
    "    vel = deramp(vel, mask, ramp_type=ramp_type, metadata=atr)[0]         #remove ramp before the evaluation\n",
    "\n",
    "    # get deforming pixels\n",
    "    mad = ut.median_abs_deviation_threshold(vel[mask], center=0., cutoff=3) #deformation threshold\n",
    "    print('velocity threshold / median abs dev: {:.3f} cm/yr'.format(mad))\n",
    "    vel[mask == 0] = 0\n",
    "    mask_aoi = (vel >= mad) + (vel <= -1. * mad)\n",
    "    print('number of points: {}'.format(np.sum(mask_aoi)))\n",
    "\n",
    "    # get deforming boxes\n",
    "    box_list = []\n",
    "    min_num = min_percentage * (win_size ** 2)\n",
    "    length, width = vel.shape\n",
    "    num_row = np.ceil(length / win_size).astype(int)\n",
    "    num_col = np.ceil(width / win_size).astype(int)\n",
    "    for i in range(num_row):\n",
    "        r0 = i * win_size\n",
    "        r1 = min([length, r0 + win_size])\n",
    "        for j in range(num_col):\n",
    "            c0 = j * win_size\n",
    "            c1 = min([width, c0 + win_size])\n",
    "            box = (c0, r0, c1, r1)\n",
    "            if np.sum(mask_aoi[r0:r1, c0:c1]) >= min_num:\n",
    "                box_list.append(box)\n",
    "    print('number of boxes : {}'.format(len(box_list)))\n",
    "\n",
    "    if display:\n",
    "        fig, axs = plt.subplots(nrows=1, ncols=2, figsize=[12, 8], sharey=True)\n",
    "        vel[mask == 0] = np.nan\n",
    "        axs[0].imshow(vel, cmap='jet')\n",
    "        axs[1].imshow(mask_aoi, cmap='gray')\n",
    "        for box in box_list:\n",
    "            for ax in axs:\n",
    "                rect = Rectangle((box[0],box[1]), (box[2]-box[0]), (box[3]-box[1]), linewidth=2, edgecolor='r', fill=False)\n",
    "                ax.add_patch(rect)\n",
    "        plt.show()\n",
    "    return box_list"
   ]
  },
  {
   "cell_type": "code",
   "execution_count": 2,
   "metadata": {
    "scrolled": true
   },
   "outputs": [],
   "source": [
    "## read data\n",
    "# Time\n",
    "dates = np.array(ts_obj.times)                # 1D np.array of dates in datetime.datetime object in size of [num_date,]\n",
    "\n",
    "# Velocity / time-series\n",
    "mask = readfile.read(mask_file)[0]            # matrix indicating valid pixels (True for valid, False for invalid)\n",
    "vel = readfile.read(vel_file)[0][mask]        # 1D np.array of velocity   in np.float32 in size of [num_pixel,] in meter/year\n",
    "ts = readfile.read(ts_file)[0][:, mask]       # 2D np.array of time-sries in np.float32 in size of [num_date, num_pixel] in meter\n",
    "\n",
    "# Spatial coordinates\n",
    "lats, lons = get_lat_lon(ts_obj.metadata)\n",
    "lats = lats[mask]                             # 1D np.array of latitude  in np.float32 in size of [num_pixel,] in degree\n",
    "lons = lons[mask]                             # 1D np.array of longitude in np.float32 in size of [num_pixel,] in degree"
   ]
  },
  {
   "cell_type": "code",
   "execution_count": 3,
   "metadata": {
    "scrolled": false
   },
   "outputs": [
    {
     "name": "stdout",
     "output_type": "stream",
     "text": [
      "Latitude : -0.265259655920761 deg\n",
      "Longitude: -91.48614171932762 deg\n",
      "Velocity: 0.00048332888\n",
      "Dates: [datetime.datetime(2014, 12, 13, 0, 0)\n",
      " datetime.datetime(2014, 12, 25, 0, 0) datetime.datetime(2015, 3, 7, 0, 0)\n",
      " datetime.datetime(2015, 3, 19, 0, 0) datetime.datetime(2015, 3, 31, 0, 0)\n",
      " datetime.datetime(2015, 4, 12, 0, 0) datetime.datetime(2015, 4, 24, 0, 0)\n",
      " datetime.datetime(2015, 5, 6, 0, 0) datetime.datetime(2015, 5, 18, 0, 0)\n",
      " datetime.datetime(2015, 5, 30, 0, 0) datetime.datetime(2015, 6, 11, 0, 0)\n",
      " datetime.datetime(2015, 6, 23, 0, 0) datetime.datetime(2015, 7, 17, 0, 0)\n",
      " datetime.datetime(2015, 7, 29, 0, 0) datetime.datetime(2015, 8, 22, 0, 0)\n",
      " datetime.datetime(2015, 9, 3, 0, 0) datetime.datetime(2015, 9, 15, 0, 0)\n",
      " datetime.datetime(2015, 9, 27, 0, 0) datetime.datetime(2015, 10, 9, 0, 0)\n",
      " datetime.datetime(2015, 10, 21, 0, 0)\n",
      " datetime.datetime(2015, 11, 2, 0, 0)\n",
      " datetime.datetime(2015, 11, 14, 0, 0)\n",
      " datetime.datetime(2015, 11, 26, 0, 0)\n",
      " datetime.datetime(2015, 12, 8, 0, 0)\n",
      " datetime.datetime(2015, 12, 20, 0, 0) datetime.datetime(2016, 1, 1, 0, 0)\n",
      " datetime.datetime(2016, 1, 13, 0, 0) datetime.datetime(2016, 1, 25, 0, 0)\n",
      " datetime.datetime(2016, 2, 6, 0, 0) datetime.datetime(2016, 2, 18, 0, 0)\n",
      " datetime.datetime(2016, 3, 1, 0, 0) datetime.datetime(2016, 4, 6, 0, 0)\n",
      " datetime.datetime(2016, 4, 18, 0, 0) datetime.datetime(2016, 4, 30, 0, 0)\n",
      " datetime.datetime(2016, 5, 12, 0, 0) datetime.datetime(2016, 5, 24, 0, 0)\n",
      " datetime.datetime(2016, 6, 5, 0, 0) datetime.datetime(2016, 6, 29, 0, 0)\n",
      " datetime.datetime(2016, 7, 11, 0, 0) datetime.datetime(2016, 7, 23, 0, 0)\n",
      " datetime.datetime(2016, 8, 4, 0, 0) datetime.datetime(2016, 8, 16, 0, 0)\n",
      " datetime.datetime(2016, 8, 28, 0, 0) datetime.datetime(2016, 9, 9, 0, 0)\n",
      " datetime.datetime(2016, 9, 21, 0, 0) datetime.datetime(2016, 10, 3, 0, 0)\n",
      " datetime.datetime(2016, 10, 15, 0, 0)\n",
      " datetime.datetime(2016, 10, 27, 0, 0)\n",
      " datetime.datetime(2016, 11, 8, 0, 0)\n",
      " datetime.datetime(2016, 11, 20, 0, 0)\n",
      " datetime.datetime(2016, 12, 2, 0, 0)\n",
      " datetime.datetime(2016, 12, 14, 0, 0)\n",
      " datetime.datetime(2016, 12, 26, 0, 0) datetime.datetime(2017, 1, 7, 0, 0)\n",
      " datetime.datetime(2017, 1, 19, 0, 0) datetime.datetime(2017, 1, 31, 0, 0)\n",
      " datetime.datetime(2017, 2, 12, 0, 0) datetime.datetime(2017, 2, 24, 0, 0)\n",
      " datetime.datetime(2017, 3, 8, 0, 0) datetime.datetime(2017, 3, 20, 0, 0)\n",
      " datetime.datetime(2017, 4, 1, 0, 0) datetime.datetime(2017, 4, 13, 0, 0)\n",
      " datetime.datetime(2017, 4, 25, 0, 0) datetime.datetime(2017, 5, 7, 0, 0)\n",
      " datetime.datetime(2017, 5, 19, 0, 0) datetime.datetime(2017, 5, 31, 0, 0)\n",
      " datetime.datetime(2017, 6, 12, 0, 0) datetime.datetime(2017, 6, 24, 0, 0)\n",
      " datetime.datetime(2017, 7, 6, 0, 0) datetime.datetime(2017, 7, 18, 0, 0)\n",
      " datetime.datetime(2017, 7, 30, 0, 0) datetime.datetime(2017, 8, 11, 0, 0)\n",
      " datetime.datetime(2017, 8, 23, 0, 0) datetime.datetime(2017, 9, 4, 0, 0)\n",
      " datetime.datetime(2017, 9, 16, 0, 0) datetime.datetime(2017, 9, 28, 0, 0)\n",
      " datetime.datetime(2017, 10, 10, 0, 0)\n",
      " datetime.datetime(2017, 10, 22, 0, 0)\n",
      " datetime.datetime(2017, 11, 3, 0, 0)\n",
      " datetime.datetime(2017, 11, 15, 0, 0)\n",
      " datetime.datetime(2017, 11, 27, 0, 0)\n",
      " datetime.datetime(2017, 12, 9, 0, 0)\n",
      " datetime.datetime(2017, 12, 21, 0, 0) datetime.datetime(2018, 1, 2, 0, 0)\n",
      " datetime.datetime(2018, 1, 14, 0, 0) datetime.datetime(2018, 1, 26, 0, 0)\n",
      " datetime.datetime(2018, 2, 7, 0, 0) datetime.datetime(2018, 2, 19, 0, 0)\n",
      " datetime.datetime(2018, 3, 3, 0, 0) datetime.datetime(2018, 3, 15, 0, 0)\n",
      " datetime.datetime(2018, 3, 27, 0, 0) datetime.datetime(2018, 4, 8, 0, 0)\n",
      " datetime.datetime(2018, 4, 20, 0, 0) datetime.datetime(2018, 5, 2, 0, 0)\n",
      " datetime.datetime(2018, 5, 14, 0, 0) datetime.datetime(2018, 5, 26, 0, 0)\n",
      " datetime.datetime(2018, 6, 7, 0, 0) datetime.datetime(2018, 6, 19, 0, 0)]\n",
      "Displacement time-series: [ 0.002301   -0.00687676 -0.01507002 -0.00782585 -0.008437   -0.01289164\n",
      " -0.00528843 -0.00183573 -0.00211191 -0.00506229 -0.00366293 -0.00644019\n",
      "  0.00176669 -0.00294105 -0.0015887  -0.00791889 -0.00349103 -0.00184884\n",
      " -0.00519909 -0.00978573 -0.00415657 -0.00288037 -0.00034565  0.00599054\n",
      "  0.00138558 -0.00101246  0.00164241 -0.00255727  0.00520887  0.00243201\n",
      " -0.00493848 -0.00386259 -0.00221941 -0.0019189  -0.00201745  0.00097664\n",
      " -0.001602   -0.00237188 -0.0008624  -0.00070728 -0.00412351 -0.00373726\n",
      "  0.00030509 -0.00282868 -0.00424052 -0.01273626 -0.00282322 -0.00866306\n",
      " -0.00189836 -0.00894822 -0.0008268   0.00015606  0.00041148 -0.00240871\n",
      " -0.00426855  0.00150694 -0.00301586  0.00199821 -0.00392414 -0.00071831\n",
      " -0.00285649 -0.00219397 -0.00384676 -0.00137184  0.00139358 -0.00093347\n",
      " -0.00131012 -0.00118366 -0.00441427 -0.00285916 -0.00223115 -0.00521977\n",
      "  0.00075654 -0.00060796 -0.00606477 -0.00178843 -0.00456951 -0.00453903\n",
      " -0.00266607 -0.00338678 -0.00384182 -0.00505627 -0.00230333 -0.0013542\n",
      " -0.00294002 -0.00230016 -0.00501936 -0.00617653  0.00438884 -0.00141318\n",
      " -0.00170175 -0.00518028 -0.00199968 -0.00129723 -0.00270742 -0.00879199\n",
      " -0.00339199  0.        ]\n"
     ]
    }
   ],
   "source": [
    "# For example, here is the information of the 101 pixel for example\n",
    "idx = 100\n",
    "print('Latitude : {} deg'.format(lats[idx]))\n",
    "print('Longitude: {} deg'.format(lons[idx]))\n",
    "print('Velocity:', vel[idx])\n",
    "print('Dates:', dates)\n",
    "print('Displacement time-series:', ts[:, idx])"
   ]
  },
  {
   "cell_type": "code",
   "execution_count": 4,
   "metadata": {},
   "outputs": [
    {
     "name": "stdout",
     "output_type": "stream",
     "text": [
      "------------------------------\n",
      "get boxes on deforming areas\n",
      "removing a quadratic phase ramp from input velocity before the evaluation\n",
      "velocity threshold / median abs dev: 0.008 cm/yr\n",
      "number of points: 8680\n",
      "number of boxes : 19\n"
     ]
    },
    {
     "data": {
      "image/png": "[encoded data removed]",
      "text/plain": [
       "<Figure size 864x576 with 2 Axes>"
      ]
     },
     "metadata": {
      "needs_background": "light"
     },
     "output_type": "display_data"
    },
    {
     "name": "stdout",
     "output_type": "stream",
     "text": [
      "------------------------------\n",
      "get boxes on deforming areas\n",
      "removing a quadratic phase ramp from input velocity before the evaluation\n",
      "velocity threshold / median abs dev: 0.008 cm/yr\n",
      "number of points: 8680\n",
      "number of boxes : 19\n"
     ]
    }
   ],
   "source": [
    "## Find deforming areas in forms of box\n",
    "box_list = get_boxes4deforming_area(vel_file, mask_file, display=True)  #test\n",
    "box_list = get_boxes4deforming_area(vel_file, mask_file, win_size=30)   #use in practice"
   ]
  },
  {
   "cell_type": "code",
   "execution_count": null,
   "metadata": {},
   "outputs": [],
   "source": []
  }
 ],
 "metadata": {
  "kernelspec": {
   "display_name": "Python 3",
   "language": "python",
   "name": "python3"
  },
  "language_info": {
   "codemirror_mode": {
    "name": "ipython",
    "version": 3
   },
   "file_extension": ".py",
   "mimetype": "text/x-python",
   "name": "python",
   "nbconvert_exporter": "python",
   "pygments_lexer": "ipython3",
   "version": "3.6.7"
  }
 },
 "nbformat": 4,
 "nbformat_minor": 2
}
