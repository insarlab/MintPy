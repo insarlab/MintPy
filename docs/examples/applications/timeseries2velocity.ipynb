{
 "cells": [
  {
   "cell_type": "markdown",
   "metadata": {},
   "source": [
    "### Estimate average velocity from displacement time-series\n",
    "\n",
    "Given the displacement time-series in meters $d^i, i=1,...,N$, with $d^i = -\\frac{\\lambda}{4\\pi}\\phi_{dis}^i$, the average velocity is estimated as:\n",
    "\n",
    "$d^i = vt_i + c, i=1,...,N$\n",
    "\n",
    "The standard deviation of the estimated velocity is given by equation (10) in Fattahi and Amelung (2015, JGR) as:\n",
    "\n",
    "$\\sigma_v = \\sqrt{\\frac{\\sum_{i=1}^N (d_i - \\hat d_i)^2}{(N-2)\\sum_{i=1}^N (t_i - \\bar t)^2}}$"
   ]
  },
  {
   "cell_type": "code",
   "execution_count": 1,
   "metadata": {},
   "outputs": [
    {
     "data": {
      "image/png": "[encoded data removed]",
      "text/plain": [
       "<Figure size 432x288 with 1 Axes>"
      ]
     },
     "metadata": {
      "needs_background": "light"
     },
     "output_type": "display_data"
    },
    {
     "name": "stdout",
     "output_type": "stream",
     "text": [
      "Displacement [m]: [0.01673952 0.07813041 0.02596204 0.07006414 0.09535995 0.05838186\n",
      " 0.11138365 0.04103261 0.08729022 0.12227043 0.06379057 0.09879454\n",
      " 0.10176851 0.12970901 0.09461448 0.05093129 0.14553955 0.08075711\n",
      " 0.1046085  0.11446951 0.06913495 0.11709303 0.11239388 0.17183887\n",
      " 0.08853221 0.09155991 0.12416452 0.09663961 0.11750796 0.17107474\n",
      " 0.1337719  0.17336033 0.20400515 0.10966453 0.1134601  0.17414224\n",
      " 0.14649561 0.1939879  0.19614117 0.1630048  0.21649309 0.20941025\n",
      " 0.21135965 0.14765315 0.15908287 0.18410942 0.23990168 0.15974994\n",
      " 0.23087283 0.22696598]\n",
      "Dates [year]: [2014.5        2014.53285421 2014.56570842 2014.59856263 2014.63141684\n",
      " 2014.66427105 2014.69712526 2014.72997947 2014.76283368 2014.79568789\n",
      " 2014.82854209 2014.8613963  2014.89425051 2014.92710472 2014.95995893\n",
      " 2014.99281314 2015.02566735 2015.05852156 2015.09137577 2015.12422998\n",
      " 2015.15708419 2015.1899384  2015.22279261 2015.25564682 2015.28850103\n",
      " 2015.32135524 2015.35420945 2015.38706366 2015.41991786 2015.45277207\n",
      " 2015.48562628 2015.51848049 2015.5513347  2015.58418891 2015.61704312\n",
      " 2015.64989733 2015.68275154 2015.71560575 2015.74845996 2015.78131417\n",
      " 2015.81416838 2015.84702259 2015.8798768  2015.91273101 2015.94558522\n",
      " 2015.97843943 2016.01129363 2016.04414784 2016.07700205 2016.10985626]\n",
      "True velocity [m/year]: 0.1\n"
     ]
    }
   ],
   "source": [
    "%matplotlib inline\n",
    "import os\n",
    "import numpy as np\n",
    "from scipy import linalg, stats\n",
    "import matplotlib.pyplot as plt\n",
    "\n",
    "## simulate displacement time-series and dates\n",
    "vel_sim = 0.1 #m/year\n",
    "num_date = 50\n",
    "t_year = np.arange(num_date) * 12 / 365.25 + 2014.5\n",
    "dis_sim = (t_year - t_year[0]) * vel_sim + np.random.rand(num_date) * 0.1\n",
    "\n",
    "# plot\n",
    "plt.figure()\n",
    "plt.plot(t_year, dis_sim, '.')\n",
    "plt.show()\n",
    "print('Displacement [m]:', dis_sim)\n",
    "print('Dates [year]:', t_year)\n",
    "print('True velocity [m/year]:', vel_sim)"
   ]
  },
  {
   "cell_type": "code",
   "execution_count": 2,
   "metadata": {},
   "outputs": [
    {
     "name": "stdout",
     "output_type": "stream",
     "text": [
      "Estimation using scipy.linalg with velocity [m/year]: 0.10, velocity std [m/year]: 0.01\n",
      "Estimation using scipy.stats  with velocity [m/year]: 0.10, velocity std [m/year]: 0.01\n",
      "LinregressResult(slope=0.09752515352236714, intercept=-196.41401910620579, rvalue=0.8371056219343205, pvalue=3.610822853799725e-14, stderr=0.009198899547538131)\n"
     ]
    }
   ],
   "source": [
    "## least squares solution\n",
    "# option 1 - scipy.linalg module\n",
    "#t = t_year - t_year[0]     # option 1 [recommend]: set the first date as zero to avoid float32 precision over tolerance for the interception at the first date\n",
    "t = t_year                 # option 2 also works in Alfredo's data\n",
    "A = np.ones((num_date, 2), dtype=np.float32)\n",
    "A[:, 0] = t\n",
    "vel_est, c = np.dot(np.linalg.pinv(A), dis_sim)\n",
    "dis_est = t * vel_est + c\n",
    "vel_std = np.sqrt(np.sum(np.square(dis_sim - dis_est)) / (np.sum(np.square(t - np.mean(t)))) / (num_date - 2))\n",
    "print('Estimation using scipy.linalg with velocity [m/year]: {:.2f}, velocity std [m/year]: {:.2f}'.format(vel_est, vel_std))\n",
    "\n",
    "## option 2 - scipy.stats.linregress()\n",
    "vfit = stats.linregress(t, dis_sim)\n",
    "vel_est, velstd = vfit[0], vfit[4]\n",
    "print('Estimation using scipy.stats  with velocity [m/year]: {:.2f}, velocity std [m/year]: {:.2f}'.format(vel_est, vel_std))\n",
    "print(vfit)"
   ]
  },
  {
   "cell_type": "code",
   "execution_count": 3,
   "metadata": {},
   "outputs": [
    {
     "data": {
      "image/png": "[encoded data removed]",
      "text/plain": [
       "<Figure size 432x288 with 1 Axes>"
      ]
     },
     "metadata": {
      "needs_background": "light"
     },
     "output_type": "display_data"
    }
   ],
   "source": [
    "# plot\n",
    "plt.figure()\n",
    "plt.plot(t, dis_sim, '.', ms=8)\n",
    "plt.plot(t, dis_est, '-', lw=4, label='Estimated velocity')\n",
    "plt.legend()\n",
    "plt.show()"
   ]
  },
  {
   "cell_type": "code",
   "execution_count": null,
   "metadata": {},
   "outputs": [],
   "source": []
  }
 ],
 "metadata": {
  "kernelspec": {
   "display_name": "Python 3",
   "language": "python",
   "name": "python3"
  },
  "language_info": {
   "codemirror_mode": {
    "name": "ipython",
    "version": 3
   },
   "file_extension": ".py",
   "mimetype": "text/x-python",
   "name": "python",
   "nbconvert_exporter": "python",
   "pygments_lexer": "ipython3",
   "version": "3.6.8"
  }
 },
 "nbformat": 4,
 "nbformat_minor": 2
}
