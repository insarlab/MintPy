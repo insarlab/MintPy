{
 "cells": [
  {
   "cell_type": "code",
   "execution_count": 1,
   "metadata": {},
   "outputs": [],
   "source": [
    "## Tropospheric delay correction using GACOS from New Castle U\n",
    "## for geocoded dataset\n",
    "%matplotlib inline\n",
    "import os\n",
    "import numpy as np\n",
    "import matplotlib.pyplot as plt\n",
    "from skimage.transform import resize\n",
    "from pysar.objects import timeseries\n",
    "from pysar.utils import ptime, readfile, utils as ut\n",
    "\n",
    "ztd_dir = os.path.expanduser('~/insarlab/Kirishima/AlosAT424F620_630/GACOS')\n",
    "proj_dir = os.path.expanduser('~/insarlab/Kirishima/KirishimaAlosAT424/PYSAR')\n",
    "\n",
    "out_file = os.path.join(proj_dir, 'INPUTS/GACOS.h5')\n",
    "ts_file = os.path.join(proj_dir, 'timeseries.h5')\n",
    "geom_file = os.path.join(proj_dir, 'INPUTS/geometryGeo.h5')"
   ]
  },
  {
   "cell_type": "code",
   "execution_count": 2,
   "metadata": {},
   "outputs": [],
   "source": [
    "def get_geo_delay(fztd, geo_box, atr, inc_angle):\n",
    "    meta = readfile.read_attribute(fztd)\n",
    "    coord = ut.coordinate(meta)\n",
    "    box = coord.box_geo2pixel(geo_box)\n",
    "    phs = readfile.read(fztd, box=box)[0]\n",
    "    phs[phs == 0] = np.nan\n",
    "\n",
    "    # interpolation\n",
    "    out_shape = (int(atr['LENGTH']), int(atr['WIDTH']))\n",
    "    phs = resize(phs, out_shape, order=1, mode='edge', anti_aliasing=True)\n",
    "\n",
    "    phs /= np.cos(inc_angle * np.pi / 180)\n",
    "    phs -= phs[int(atr['REF_Y']), int(atr['REF_X'])]\n",
    "    phs *= -1\n",
    "    return phs"
   ]
  },
  {
   "cell_type": "code",
   "execution_count": 3,
   "metadata": {},
   "outputs": [
    {
     "name": "stdout",
     "output_type": "stream",
     "text": [
      "open timeseries file: timeseries.h5\n"
     ]
    }
   ],
   "source": [
    "# 1. get time-series file info\n",
    "obj = timeseries(ts_file)\n",
    "obj.open()\n",
    "atr = readfile.read_attribute(ts_file)\n",
    "\n",
    "# get box_box\n",
    "pixel_box = (0, 0, int(atr['WIDTH']), int(atr['LENGTH']))\n",
    "geo_box = ut.coordinate(atr).box_pixel2geo(pixel_box)\n",
    "\n",
    "# get inc_angle\n",
    "inc_angle = readfile.read(geom_file, datasetName='incidenceAngle')[0]\n",
    "\n",
    "# get grib file list\n",
    "fztd_list = [os.path.join(ztd_dir, '{}.ztd'.format(i)) for i in obj.dateList]"
   ]
  },
  {
   "cell_type": "code",
   "execution_count": 4,
   "metadata": {},
   "outputs": [
    {
     "name": "stdout",
     "output_type": "stream",
     "text": [
      "[==================================================] 20110407.ztd    3s /     0s \n",
      "create timeseries HDF5 file: /Users/yunjunz/insarlab/Kirishima/KirishimaAlosAT424/PYSAR/INPUTS/GACOS.h5 with w mode\n",
      "create dataset /timeseries of float32    in size of (27, 1441, 2161) with compression=None\n",
      "create dataset /dates      of |S8        in size of (27,)\n",
      "create dataset /bperp      of float32    in size of (27,)\n",
      "finished writing to /Users/yunjunz/insarlab/Kirishima/KirishimaAlosAT424/PYSAR/INPUTS/GACOS.h5\n"
     ]
    },
    {
     "data": {
      "text/plain": [
       "'/Users/yunjunz/insarlab/Kirishima/KirishimaAlosAT424/PYSAR/INPUTS/GACOS.h5'"
      ]
     },
     "execution_count": 4,
     "metadata": {},
     "output_type": "execute_result"
    }
   ],
   "source": [
    "# calculate deley time-series\n",
    "num_date = obj.numDate\n",
    "tropo = np.zeros((num_date, obj.length, obj.width), dtype=np.float32)\n",
    "prog_bar = ptime.progressBar(maxValue=num_date)\n",
    "for i in range(num_date):\n",
    "    fztd = fztd_list[i]\n",
    "    tropo[i, :, :] = get_geo_delay(fztd, geo_box, atr, inc_angle)\n",
    "    prog_bar.update(i+1, suffix=os.path.basename(fztd))\n",
    "prog_bar.close()\n",
    "tropo -= np.tile(tropo[0, :, :], (num_date, 1, 1))\n",
    "\n",
    "# write deley to h5 file\n",
    "obj_out = timeseries(out_file)\n",
    "obj_out.write2hdf5(data=tropo,\n",
    "                   dates=obj.dateList,\n",
    "                   metadata=atr,\n",
    "                   refFile=ts_file)"
   ]
  },
  {
   "cell_type": "code",
   "execution_count": 8,
   "metadata": {
    "scrolled": true
   },
   "outputs": [
    {
     "name": "stdout",
     "output_type": "stream",
     "text": [
      "Go to directory /Users/yunjunz/insarlab/Kirishima/KirishimaAlosAT424/PYSAR\n",
      "timeseries.h5 - ['INPUTS/GACOS.h5'] --> timeseries_GACOS.h5\n",
      "input files are: timeseries and timeseries\n",
      "open timeseries file: timeseries.h5\n",
      "open timeseries file: GACOS.h5\n",
      "reading timeseries data from file: timeseries.h5 ...\n",
      "create timeseries HDF5 file: timeseries_GACOS.h5 with w mode\n",
      "create dataset /timeseries of float32    in size of (27, 1441, 2161) with compression=None\n",
      "create dataset /dates      of |S8        in size of (27,)\n",
      "create dataset /bperp      of float32    in size of (27,)\n",
      "finished writing to timeseries_GACOS.h5\n",
      "remove quadratic ramp from file: timeseries_GACOS.h5\n",
      "read mask file: maskTempCoh.h5\n",
      "reading data ...\n",
      "estimating phase ramp ...\n",
      "create timeseries HDF5 file: timeseries_GACOS_ramp.h5 with w mode\n",
      "create dataset /timeseries of float32    in size of (27, 1441, 2161) with compression=None\n",
      "create dataset /dates      of |S8        in size of (27,)\n",
      "create dataset /bperp      of float32    in size of (27,)\n",
      "finished writing to timeseries_GACOS_ramp.h5\n",
      "time used: 00 mins 7.0 secs.\n",
      "add/update the following configuration metadata to file:\n",
      "['pysar.deramp', 'pysar.deramp.maskFile']\n",
      "read options from template file: pysarApp_template.txt\n",
      "read mean incidenceAngle,slantRangeDistance,bperp value from timeseries file\n",
      "near   incidence angle : 36.5388 degree\n",
      "far    incidence angle : 40.4871 degree\n",
      "center incidence angle : 38.5130 degree\n",
      "center range : 866802.99 m\n",
      "near   range : 846567.00 m\n",
      "far    range : 887038.98 m\n",
      "open timeseries file: timeseries_GACOS_ramp.h5\n",
      "--------------------------------------------------------------------------------\n",
      "correct topographic phase residual (DEM error) (Fattahi & Amelung, 2013, IEEE-TGRS)\n",
      "ordinal least squares (OLS) inversion with L2-norm minimization on: phase\n",
      "temporal deformation model: polynomial order = 2\n",
      "--------------------------------------------------------------------------------\n",
      "open timeseries file: timeseries_GACOS_ramp.h5\n",
      "exclude the following dates for DEM error estimation: (1)\n",
      "['exclude_date.txt']\n",
      "reading timeseries data from file: timeseries_GACOS_ramp.h5 ...\n",
      "inverting DEM error ...\n",
      "skip pixels with zero/NaN value in all acquisitions\n",
      "add/update the following configuration metadata to file:\n",
      "['polyOrder', 'phaseVelocity', 'stepFuncDate', 'excludeDate']\n",
      "delete exsited file: demErr.h5\n",
      "create HDF5 file: demErr.h5 with w mode\n",
      "create dataset /dem of float32    in size of (1441, 2161)         with compression=None\n",
      "finished writing to demErr.h5\n",
      "create timeseries HDF5 file: timeseries_GACOS_ramp_demErr.h5 with w mode\n",
      "create dataset /timeseries of float32    in size of (27, 1441, 2161) with compression=None\n",
      "create dataset /dates      of |S8        in size of (27,)\n",
      "create dataset /bperp      of float32    in size of (27,)\n",
      "finished writing to timeseries_GACOS_ramp_demErr.h5\n",
      "create timeseries HDF5 file: timeseriesResidual.h5 with w mode\n",
      "create dataset /timeseries of float32    in size of (27, 1441, 2161) with compression=None\n",
      "create dataset /dates      of |S8        in size of (27,)\n",
      "create dataset /bperp      of float32    in size of (27,)\n",
      "finished writing to timeseriesResidual.h5\n",
      "time used: 00 mins 11.2 secs.\n"
     ]
    }
   ],
   "source": [
    "# correct time-series\n",
    "work_dir = '/Users/yunjunz/insarlab/Kirishima/KirishimaAlosAT424/PYSAR'\n",
    "os.chdir(work_dir)\n",
    "print('Go to directory', work_dir)\n",
    "\n",
    "!diff.py timeseries.h5 INPUTS/GACOS.h5 -o timeseries_GACOS.h5\n",
    "!remove_ramp.py timeseries_GACOS.h5 -m maskTempCoh.h5 -s quadratic\n",
    "!dem_error.py timeseries_GACOS_ramp.h5 -t pysarApp_template.txt"
   ]
  },
  {
   "cell_type": "code",
   "execution_count": 7,
   "metadata": {
    "scrolled": true
   },
   "outputs": [
    {
     "name": "stdout",
     "output_type": "stream",
     "text": [
      "run view.py in PySAR version 1.0.0-dev, release date 2019-03-31\n",
      "input file is timeseries file: /Users/yunjunz/insarlab/Kirishima/KirishimaAlosAT424/PYSAR/timeseries_GACOS_ramp_demErr.h5 in float32 format\n",
      "file size in y/x: (1441, 2161)\n",
      "num of datasets in file timeseries_GACOS_ramp_demErr.h5: 27\n",
      "datasets to exclude (0):\n",
      "[]\n",
      "datasets to display (27):\n",
      "['timeseries-20060924', 'timeseries-20061225', 'timeseries-20070627', 'timeseries-20070812', 'timeseries-20070927', 'timeseries-20071112', 'timeseries-20071228', 'timeseries-20080212', 'timeseries-20080329', 'timeseries-20080514', 'timeseries-20080629', 'timeseries-20080929', 'timeseries-20081114', 'timeseries-20081230', 'timeseries-20090214', 'timeseries-20090702', 'timeseries-20090817', 'timeseries-20091002', 'timeseries-20100102', 'timeseries-20100217', 'timeseries-20100404', 'timeseries-20100520', 'timeseries-20100705', 'timeseries-20100820', 'timeseries-20101120', 'timeseries-20110220', 'timeseries-20110407']\n",
      "data   coverage in y/x: (0, 0, 2161, 1441)\n",
      "subset coverage in y/x: (0, 0, 2161, 1441)\n",
      "data   coverage in lat/lon: (130.4998611111111, 32.10013888888889, 131.1001388888889, 31.699861111111115)\n",
      "subset coverage in lat/lon: (130.4998611111111, 32.10013888888889, 131.1001388888889, 31.699861111111115)\n",
      "------------------------------------------------------------------------\n",
      "colormap: jet\n",
      "figure title: timeseries_GACOS_ramp_demErr\n",
      "figure size : [15.0, 8.0]\n",
      "dataset number: 27\n",
      "row     number: 5\n",
      "column  number: 6\n",
      "figure  number: 1\n",
      "read mask from file: maskTempCoh.h5\n",
      "number of data points per figures: 9.3E+07\n",
      "multilook with a factor of 4 for display\n",
      "turn off reference pixel plot for more than 10 datasets to display\n",
      "----------------------------------------\n",
      "Figure 1 - timeseries_GACOS_ramp_demErr.png\n",
      "data    range: [-33.996616, 38.749035] cm\n",
      "display range: [-5.0, 5.0] cm\n",
      "masking data\n",
      "plotting ...\n",
      "[==================================================] timeseries-20110407    0s /     0s\n",
      "data    range: [-33.996616, 38.749035] cm\n",
      "display range: [-5.0, 5.0] cm\n",
      "show colorbar\n",
      "save figure to timeseries_GACOS_ramp_demErr.png with dpi=300\n",
      "run view.py in PySAR version 1.0.0-dev, release date 2019-03-31\n",
      "input file is timeseries file: /Users/yunjunz/insarlab/Kirishima/KirishimaAlosAT424/PYSAR/timeseries_ECMWF_ramp_demErr.h5 in float32 format\n",
      "file size in y/x: (1441, 2161)\n",
      "num of datasets in file timeseries_ECMWF_ramp_demErr.h5: 27\n",
      "datasets to exclude (0):\n",
      "[]\n",
      "datasets to display (27):\n",
      "['timeseries-20060924', 'timeseries-20061225', 'timeseries-20070627', 'timeseries-20070812', 'timeseries-20070927', 'timeseries-20071112', 'timeseries-20071228', 'timeseries-20080212', 'timeseries-20080329', 'timeseries-20080514', 'timeseries-20080629', 'timeseries-20080929', 'timeseries-20081114', 'timeseries-20081230', 'timeseries-20090214', 'timeseries-20090702', 'timeseries-20090817', 'timeseries-20091002', 'timeseries-20100102', 'timeseries-20100217', 'timeseries-20100404', 'timeseries-20100520', 'timeseries-20100705', 'timeseries-20100820', 'timeseries-20101120', 'timeseries-20110220', 'timeseries-20110407']\n",
      "data   coverage in y/x: (0, 0, 2161, 1441)\n",
      "subset coverage in y/x: (0, 0, 2161, 1441)\n",
      "data   coverage in lat/lon: (130.4998611111111, 32.10013888888889, 131.1001388888889, 31.699861111111115)\n",
      "subset coverage in lat/lon: (130.4998611111111, 32.10013888888889, 131.1001388888889, 31.699861111111115)\n",
      "------------------------------------------------------------------------\n",
      "colormap: jet\n",
      "figure title: timeseries_ECMWF_ramp_demErr\n",
      "figure size : [15.0, 8.0]\n",
      "dataset number: 27\n",
      "row     number: 5\n",
      "column  number: 6\n",
      "figure  number: 1\n",
      "read mask from file: maskTempCoh.h5\n",
      "number of data points per figures: 9.3E+07\n",
      "multilook with a factor of 4 for display\n",
      "turn off reference pixel plot for more than 10 datasets to display\n",
      "----------------------------------------\n",
      "Figure 1 - timeseries_ECMWF_ramp_demErr.png\n",
      "data    range: [-34.87515, 35.956837] cm\n",
      "display range: [-5.0, 5.0] cm\n",
      "masking data\n",
      "plotting ...\n",
      "[==================================================] timeseries-20110407    0s /     0s\n",
      "data    range: [-34.87515, 35.956837] cm\n",
      "display range: [-5.0, 5.0] cm\n",
      "show colorbar\n",
      "save figure to timeseries_ECMWF_ramp_demErr.png with dpi=300\n"
     ]
    }
   ],
   "source": [
    "!view.py timeseries_GACOS_ramp_demErr.h5 -v -5 5 --nodisplay\n",
    "!view.py timeseries_ECMWF_ramp_demErr.h5 -v -5 5 --nodisplay"
   ]
  },
  {
   "cell_type": "code",
   "execution_count": null,
   "metadata": {},
   "outputs": [],
   "source": []
  }
 ],
 "metadata": {
  "kernelspec": {
   "display_name": "Python 3",
   "language": "python",
   "name": "python3"
  },
  "language_info": {
   "codemirror_mode": {
    "name": "ipython",
    "version": 3
   },
   "file_extension": ".py",
   "mimetype": "text/x-python",
   "name": "python",
   "nbconvert_exporter": "python",
   "pygments_lexer": "ipython3",
   "version": "3.6.8"
  }
 },
 "nbformat": 4,
 "nbformat_minor": 2
}
