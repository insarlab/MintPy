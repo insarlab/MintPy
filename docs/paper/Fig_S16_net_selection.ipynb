{
 "cells": [
  {
   "cell_type": "markdown",
   "metadata": {},
   "source": [
    "## Additional software feature - network selection ##\n",
    "+ Figure S16 - Plot network for different selection methods supported by PySAR"
   ]
  },
  {
   "cell_type": "code",
   "execution_count": 4,
   "metadata": {},
   "outputs": [
    {
     "name": "stdout",
     "output_type": "stream",
     "text": [
      "Go to directory: /Users/yunjunz/development/python/2019_RSE_PYSAR/network_selectionMethod\n",
      "write baseline list info to file: bl_list.txt\n"
     ]
    }
   ],
   "source": [
    "%matplotlib inline\n",
    "import os\n",
    "import matplotlib.pyplot as plt\n",
    "from mintpy.objects import timeseries\n",
    "from mintpy.defaults.plot import *\n",
    "\n",
    "work_dir = os.path.expanduser('~/Documents/Paper/2019_MintPy/Notebook/net_selection')\n",
    "os.chdir(work_dir)\n",
    "print('Go to directory:', work_dir)\n",
    "\n",
    "ts_file = os.path.expanduser('~/insarlab/Galapagos/AlcedoSenDT128/mintpy/timeseries.h5')\n",
    "ts_obj = timeseries(ts_file)\n",
    "# Generate baseline list file for date_list and pbase_list\n",
    "bl_list_file = 'bl_list.txt'\n",
    "if not os.path.isfile(bl_list_file):\n",
    "    ts_obj.save2bl_list_file(out_file=bl_list_file)"
   ]
  },
  {
   "cell_type": "code",
   "execution_count": 5,
   "metadata": {},
   "outputs": [
    {
     "name": "stdout",
     "output_type": "stream",
     "text": [
      "select_network.py selectNetwork_template.txt --sensor Sen --figext .jpg --figsize 4 3 --dpi 600 --notitle --ms 8\n",
      "mv ifgram_list.txt /Users/yunjunz/development/python/2019_RSE_PYSAR/network_selectionMethod/ifgram_list_all.txt\n",
      "mv Network.jpg /Users/yunjunz/development/python/2019_RSE_PYSAR/network_selectionMethod/Network_all.jpg\n",
      "mv CoherenceMatrix.jpg /Users/yunjunz/development/python/2019_RSE_PYSAR/network_selectionMethod/CoherenceMatrix_all.jpg\n",
      "\n",
      "select_network.py selectNetwork_template.txt --sensor Sen --figext .jpg --figsize 4 3 --dpi 600 --notitle --ms 8\n",
      "mv ifgram_list.txt /Users/yunjunz/development/python/2019_RSE_PYSAR/network_selectionMethod/ifgram_list_seq.txt\n",
      "mv Network.jpg /Users/yunjunz/development/python/2019_RSE_PYSAR/network_selectionMethod/Network_seq.jpg\n",
      "mv CoherenceMatrix.jpg /Users/yunjunz/development/python/2019_RSE_PYSAR/network_selectionMethod/CoherenceMatrix_seq.jpg\n",
      "\n",
      "select_network.py selectNetwork_template.txt --sensor Sen --figext .jpg --figsize 4 3 --dpi 600 --notitle --ms 8\n",
      "mv ifgram_list.txt /Users/yunjunz/development/python/2019_RSE_PYSAR/network_selectionMethod/ifgram_list_hierar.txt\n",
      "mv Network.jpg /Users/yunjunz/development/python/2019_RSE_PYSAR/network_selectionMethod/Network_hierar.jpg\n",
      "mv CoherenceMatrix.jpg /Users/yunjunz/development/python/2019_RSE_PYSAR/network_selectionMethod/CoherenceMatrix_hierar.jpg\n",
      "\n",
      "select_network.py selectNetwork_template.txt --sensor Sen --figext .jpg --figsize 4 3 --dpi 600 --notitle --ms 8\n",
      "mv ifgram_list.txt /Users/yunjunz/development/python/2019_RSE_PYSAR/network_selectionMethod/ifgram_list_delaunay.txt\n",
      "mv Network.jpg /Users/yunjunz/development/python/2019_RSE_PYSAR/network_selectionMethod/Network_delaunay.jpg\n",
      "mv CoherenceMatrix.jpg /Users/yunjunz/development/python/2019_RSE_PYSAR/network_selectionMethod/CoherenceMatrix_delaunay.jpg\n",
      "\n",
      "select_network.py selectNetwork_template.txt --sensor Sen --figext .jpg --figsize 4 3 --dpi 600 --notitle --ms 8\n",
      "mv ifgram_list.txt /Users/yunjunz/development/python/2019_RSE_PYSAR/network_selectionMethod/ifgram_list_mst.txt\n",
      "mv Network.jpg /Users/yunjunz/development/python/2019_RSE_PYSAR/network_selectionMethod/Network_mst.jpg\n",
      "mv CoherenceMatrix.jpg /Users/yunjunz/development/python/2019_RSE_PYSAR/network_selectionMethod/CoherenceMatrix_mst.jpg\n",
      "\n",
      "select_network.py selectNetwork_template.txt --sensor Sen --figext .jpg --figsize 4 3 --dpi 600 --notitle --ms 8\n",
      "mv ifgram_list.txt /Users/yunjunz/development/python/2019_RSE_PYSAR/network_selectionMethod/ifgram_list_star.txt\n",
      "mv Network.jpg /Users/yunjunz/development/python/2019_RSE_PYSAR/network_selectionMethod/Network_star.jpg\n",
      "mv CoherenceMatrix.jpg /Users/yunjunz/development/python/2019_RSE_PYSAR/network_selectionMethod/CoherenceMatrix_star.jpg\n",
      "\n",
      "Done.\n"
     ]
    }
   ],
   "source": [
    "# Generate ifgram_list.txt file for network info\n",
    "\n",
    "TEMPLATE0 = \"\"\"\n",
    "selectNetwork.method        = all  #[all / hierarchical / sequential / mst / delaunay / star], auto for all\n",
    "selectNetwork.connNum       = 5  #[1-inf], auto for 3, for sequential method, pairs num per new acquisition\n",
    "selectNetwork.tempPerpList  = 6,300;12,200;48,100;96,50  #[btemp1,bperp1;...], auto for '16,1600;32,800;48,600;64,200'; max temp/perp baseline\n",
    "selectNetwork.referenceFile = auto  #[fname / no], auto for no, HDF5 or text file with pairs info\n",
    "\n",
    "## 2) filter network/pairs using temp/perp baseline, doppler overlap threshold, etc.\n",
    "selectNetwork.perpBaseMax   = 200  #[1-inf / no], auto for 500., max perpendicular spatial baseline\n",
    "selectNetwork.tempBaseMax   = 120  #[1-inf / no], auto for 1800., max temporal baseline\n",
    "selectNetwork.tempBaseMin   = auto  #[1-inf], auto for 0.,   min temporal baseline\n",
    "selectNetwork.keepSeasonal  = auto  #[yes / no], auto for no, keep pairs with seasonal temporal baseline\n",
    "selectNetwork.dopOverlapMin = auto  #[1-inf / no], auto for 15., min dopploer overlap percentage\n",
    "\n",
    "selectNetwork.masterDate    = auto  #[100102 / no], auto for no, master date for star/ps network and reference interferogram\n",
    "selectNetwork.startDate     = auto  #[070101 / no], auto for no, date in YYMMDD or YYYYMMDD format\n",
    "selectNetwork.endDate       = auto  #[110101 / no], auto for no\n",
    "selectNetwork.excludeDate   = auto  #[080520,100726 / no], auto for no, exclude dates for pairs selection\n",
    "\"\"\"\n",
    "template_file = 'selectNetwork_template.txt'\n",
    "method_list = ['all', 'seq', 'hierar', 'delaunay', 'mst', 'star']\n",
    "\n",
    "# run select_network.py to generate ifgram_list.txt file\n",
    "for method in method_list:\n",
    "    TEMPLATE = TEMPLATE0.replace('all', method)\n",
    "    with open(template_file, 'w') as f:\n",
    "        f.write(TEMPLATE)\n",
    "    netCmd = ('select_network.py {t} --sensor Sen --figext {e} --figsize {sx} {sy}'\n",
    "              ' --dpi {d} --notitle --ms 8\\n'.format(t=template_file,\n",
    "                                                     e=fig_ext,\n",
    "                                                     sx=4,\n",
    "                                                     sy=3,\n",
    "                                                     d=fig_dpi))\n",
    "    file_list = ['ifgram_list.txt', 'Network{}'.format(fig_ext), 'CoherenceMatrix{}'.format(fig_ext)]\n",
    "    for fname in file_list:\n",
    "        fbase, fext = os.path.splitext(fname)\n",
    "        out_file = os.path.join(work_dir, '{}_{}{}'.format(fbase, method, fext))\n",
    "        netCmd += 'mv {} {}\\n'.format(fname, out_file)\n",
    "    print(netCmd)\n",
    "    os.system(netCmd)\n",
    "print('Done.')"
   ]
  },
  {
   "cell_type": "code",
   "execution_count": null,
   "metadata": {
    "collapsed": true
   },
   "outputs": [],
   "source": []
  }
 ],
 "metadata": {
  "kernelspec": {
   "display_name": "Python 3",
   "language": "python",
   "name": "python3"
  },
  "language_info": {
   "codemirror_mode": {
    "name": "ipython",
    "version": 3
   },
   "file_extension": ".py",
   "mimetype": "text/x-python",
   "name": "python",
   "nbconvert_exporter": "python",
   "pygments_lexer": "ipython3",
   "version": "3.6.8"
  }
 },
 "nbformat": 4,
 "nbformat_minor": 2
}
