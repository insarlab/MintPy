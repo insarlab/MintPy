{
 "cells": [
  {
   "cell_type": "code",
   "execution_count": 15,
   "metadata": {
    "scrolled": false
   },
   "outputs": [
    {
     "name": "stdout",
     "output_type": "stream",
     "text": [
      "Go to directory: /Users/yunjunz/insarlab/Galapagos\n",
      "--------------------\n",
      "GalapagosAlosAT133\n",
      "start / end date (# of acquisition): 20070115 / 20110313 (22)\n",
      "# of interferograms: 228\n",
      "# of looks in rg / az direction: 8 / 16\n",
      "ground pixel size in rg / az direction: 60 / 51 m\n",
      "--------------------\n",
      "GalapagosSenDT128\n",
      "start / end date (# of acquisition): 20141213 / 20180619 (98)\n",
      "# of interferograms: 475\n",
      "# of looks in rg / az direction: 15 / 5\n",
      "ground pixel size in rg / az direction: 62 / 70 m\n",
      "--------------------\n",
      "GalapagosEnvA2T061\n",
      "start / end date (# of acquisition): 20030329 / 20050507 (19)\n",
      "# of interferograms: 692\n",
      "# of looks in rg / az direction: 4 / 20\n",
      "ground pixel size in rg / az direction: 83 / 82 m\n"
     ]
    }
   ],
   "source": [
    "# Table S1 - SAR acquisitions info on Galapagos islands, Ecuador\n",
    "\n",
    "import os\n",
    "import datetime as dt\n",
    "from pysar.objects import timeseries, sensor, ifgramStack\n",
    "from pysar.utils import utils as ut\n",
    "\n",
    "work_dir = os.path.expanduser('~/insarlab/Galapagos')\n",
    "os.chdir(work_dir)\n",
    "print('Go to directory: {}'.format(work_dir))\n",
    "\n",
    "\n",
    "for proj_name in ['GalapagosAlosAT133',\n",
    "                  'GalapagosSenDT128',\n",
    "                  'GalapagosEnvA2T061'\n",
    "                 ]:\n",
    "    print('-'*20)\n",
    "    print(proj_name)\n",
    "    # sensor / pass_direction / track\n",
    "    sensor_name = sensor.project_name2sensor_name(proj_name)[0]\n",
    "    if proj_name.split(sensor_name)[1].startswith('A'):\n",
    "        orb_direction = 'Ascending'\n",
    "    else:\n",
    "        orb_direction = 'Descending'\n",
    "    track_num = proj_name.split(sensor_name)[1].split('T')[1]\n",
    "\n",
    "    # temporal/perpendicular baseline\n",
    "    os.chdir(os.path.join(work_dir, proj_name, 'PYSAR'))\n",
    "    ts_obj = timeseries('timeseries.h5')\n",
    "    ts_obj.open(print_msg=False)\n",
    "    atr = dict(ts_obj.metadata)\n",
    "    print('start / end date (# of acquisition): {} / {} ({})'.format(ts_obj.dateList[0],\n",
    "                                                                     ts_obj.dateList[-1],\n",
    "                                                                     len(ts_obj.dateList)))\n",
    "\n",
    "    # interferogram info\n",
    "    stack_obj = ifgramStack('INPUTS/ifgramStack.h5')\n",
    "    stack_obj.open(print_msg=False)\n",
    "    print('# of interferograms: {}'.format(len(stack_obj.get_date12_list(dropIfgram=False))))\n",
    "\n",
    "    # number of looks\n",
    "    print('# of looks in rg / az direction: {} / {}'.format(atr['RLOOKS'], atr['ALOOKS']))\n",
    "\n",
    "    # pixel size\n",
    "    print('ground pixel size in rg / az direction: {:.0f} / {:.0f} m'.format(ut.range_ground_resolution(atr),\n",
    "                                                                             ut.azimuth_ground_resolution(atr)))\n",
    "\n"
   ]
  },
  {
   "cell_type": "code",
   "execution_count": null,
   "metadata": {
    "collapsed": true
   },
   "outputs": [],
   "source": []
  }
 ],
 "metadata": {
  "kernelspec": {
   "display_name": "Python 3",
   "language": "python",
   "name": "python3"
  },
  "language_info": {
   "codemirror_mode": {
    "name": "ipython",
    "version": 3
   },
   "file_extension": ".py",
   "mimetype": "text/x-python",
   "name": "python",
   "nbconvert_exporter": "python",
   "pygments_lexer": "ipython3",
   "version": "3.6.8"
  }
 },
 "nbformat": 4,
 "nbformat_minor": 2
}
