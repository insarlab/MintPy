{
 "cells": [
  {
   "cell_type": "code",
   "execution_count": 1,
   "metadata": {
    "scrolled": false
   },
   "outputs": [
    {
     "name": "stdout",
     "output_type": "stream",
     "text": [
      "Go to directory: /Users/yunjunz/development/python/2018_ComputGeosci_PySAR/phaseCorrection_order\n"
     ]
    }
   ],
   "source": [
    "# Examine the right order of different phase corrections in time-series: tropo, DEM error and/or ramp\n",
    "# The simulated time-series includes:\n",
    "#     1) simulated displacement time-series\n",
    "#     2) stratified tropospheric delay from MERRA\n",
    "#     3) stochatic tropospheric turbulence based on power-law characteristics\n",
    "#        with power factor estimated from real time-series phase residual\n",
    "#     4) topographic residual phase from DEM error estimated in real data\n",
    "#     5) plane phase ramp estimated from real data\n",
    "#\n",
    "# The simulated time-series can be generated from the following notebook:\n",
    "#     1) sim_trop_turbulence\n",
    "#     2) sim_timeseries\n",
    "%matplotlib inline\n",
    "import os\n",
    "import shutil\n",
    "\n",
    "work_dir = '/Users/yunjunz/development/python/2018_ComputGeosci_PySAR/phaseCorrection_order'\n",
    "if not os.path.isdir(work_dir):\n",
    "    os.makedirs(work_dir)\n",
    "os.chdir(work_dir)\n",
    "print('Go to directory: '+work_dir)\n",
    "\n",
    "out_dir = os.path.join(work_dir, 'PIC')\n",
    "if not os.path.isdir(out_dir):\n",
    "    os.makedirs(out_dir)\n",
    "    print('create directory: '+out_dir)\n",
    "\n",
    "sim_vel_file = 'velocity_sim.h5'\n",
    "pysar_vel_file = 'velocity_pysar.h5'\n",
    "giant_vel_file = 'velocity_giant.h5'\n"
   ]
  },
  {
   "cell_type": "code",
   "execution_count": 2,
   "metadata": {},
   "outputs": [
    {
     "name": "stdout",
     "output_type": "stream",
     "text": [
      "./phase_correction.sh\n"
     ]
    },
    {
     "data": {
      "text/plain": [
       "0"
      ]
     },
     "execution_count": 2,
     "metadata": {},
     "output_type": "execute_result"
    }
   ],
   "source": [
    "# Run command to generate velocity with different order of phase corrections\n",
    "cmd = './phase_correction.sh'\n",
    "print(cmd)\n",
    "os.system(cmd)"
   ]
  },
  {
   "cell_type": "code",
   "execution_count": 3,
   "metadata": {},
   "outputs": [
    {
     "name": "stdout",
     "output_type": "stream",
     "text": [
      "view.py velocity_sim.h5 -m waterMask.h5 -v -1 2.5 --nodisplay\n",
      "view.py velocity_pysar.h5 -m waterMask.h5 -v -1 2.5 --nodisplay\n",
      "view.py velocity_giant.h5 -m waterMask.h5 -v -1 2.5 --nodisplay\n",
      "Done.\n"
     ]
    }
   ],
   "source": [
    "# plot velocity file from different orders\n",
    "vel_files = ['velocity_sim.h5', 'velocity_pysar.h5', 'velocity_giant.h5']\n",
    "\n",
    "for fname in vel_files:\n",
    "    cmd = 'view.py {} -m waterMask.h5 -v -1 2.5 --nodisplay'.format(fname)\n",
    "    print(cmd)\n",
    "    os.system(cmd)\n",
    "\n",
    "    out_file = '{}.pdf'.format(os.path.splitext(fname)[0])\n",
    "    shutil.move(os.path.join(work_dir, out_file), os.path.join(out_dir, out_file))\n",
    "print('Done.')"
   ]
  },
  {
   "cell_type": "code",
   "execution_count": 4,
   "metadata": {},
   "outputs": [
    {
     "name": "stdout",
     "output_type": "stream",
     "text": [
      "tsview.py timeseries_ECMWF_demErr_refDate_plane.h5 --yx 311 366 --zf --nodisplay -o timeseries_ECMWF_demErr_refDate_plane\n",
      "tsview.py timeseries_ECMWF_plane_demErr.h5 --yx 311 366 --zf --nodisplay -o timeseries_ECMWF_plane_demErr\n",
      "Done.\n"
     ]
    }
   ],
   "source": [
    "# plot estimated displacement timeseries file from different orders\n",
    "\n",
    "ts_files = ['timeseries_ECMWF_demErr_refDate_plane.h5', 'timeseries_ECMWF_plane_demErr.h5']\n",
    "for fname in ts_files:\n",
    "    cmd = 'tsview.py {} --yx 311 366 --zf --nodisplay -o {}'.format(fname, os.path.splitext(fname)[0])\n",
    "    print(cmd)\n",
    "    os.system(cmd)\n",
    "\n",
    "    out_file = '{}_ts.pdf'.format(os.path.splitext(fname)[0])\n",
    "    shutil.move(os.path.join(work_dir, out_file), os.path.join(out_dir, out_file))\n",
    "print('Done.')"
   ]
  },
  {
   "cell_type": "code",
   "execution_count": 6,
   "metadata": {},
   "outputs": [
    {
     "data": {
      "text/plain": [
       "'/Users/yunjunz/development/python/2018_ComputGeosci_PySAR/phaseCorrection_order/timeseries_ECMWF_demErr_refDate_plane_ts.png'"
      ]
     },
     "execution_count": 6,
     "metadata": {},
     "output_type": "execute_result"
    }
   ],
   "source": [
    "os.path.join(work_dir, out_file)"
   ]
  },
  {
   "cell_type": "code",
   "execution_count": null,
   "metadata": {
    "collapsed": true
   },
   "outputs": [],
   "source": []
  }
 ],
 "metadata": {
  "kernelspec": {
   "display_name": "Python 3",
   "language": "python",
   "name": "python3"
  },
  "language_info": {
   "codemirror_mode": {
    "name": "ipython",
    "version": 3
   },
   "file_extension": ".py",
   "mimetype": "text/x-python",
   "name": "python",
   "nbconvert_exporter": "python",
   "pygments_lexer": "ipython3",
   "version": "3.6.8"
  }
 },
 "nbformat": 4,
 "nbformat_minor": 2
}
