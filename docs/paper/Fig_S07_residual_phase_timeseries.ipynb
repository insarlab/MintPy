{
 "cells": [
  {
   "cell_type": "code",
   "execution_count": 1,
   "metadata": {},
   "outputs": [
    {
     "name": "stdout",
     "output_type": "stream",
     "text": [
      "Go to direction: /Users/yunjunz/insarlab/PYSAR_EXAMPLE/SierraNegraAlosAT133/PYSAR\n",
      "view.py timeseriesResidual_ramp.h5 --wrap --dem INPUTS/geometryRadar.h5 --dem-nocontour --noaxis --figsize 10 6 --fontsize 12 -o SierraNegraAlosAT133_timeseriesResidual.png\n"
     ]
    },
    {
     "data": {
      "text/plain": [
       "0"
      ]
     },
     "execution_count": 1,
     "metadata": {},
     "output_type": "execute_result"
    }
   ],
   "source": [
    "## Figure S7 - plot residual phase time-series\n",
    "\n",
    "import os\n",
    "from pysar.objects import sensor\n",
    "\n",
    "work_dir = os.path.expanduser('~/insarlab/PYSAR_EXAMPLE/SierraNegraAlosAT133/PYSAR')\n",
    "os.chdir(work_dir)\n",
    "print('Go to direction:', work_dir)\n",
    "\n",
    "proj_name = sensor.project_name2sensor_name(work_dir)[1]\n",
    "out_file = '{}_timeseriesResidual.png'.format(proj_name)\n",
    "\n",
    "cmd = 'view.py timeseriesResidual_ramp.h5 --wrap --dem INPUTS/geometryRadar.h5 --dem-nocontour --noaxis --figsize 10 6 --fontsize 12 -o {}'.format(out_file)\n",
    "print(cmd)\n",
    "os.system(cmd)"
   ]
  },
  {
   "cell_type": "code",
   "execution_count": null,
   "metadata": {
    "collapsed": true
   },
   "outputs": [],
   "source": []
  }
 ],
 "metadata": {
  "kernelspec": {
   "display_name": "Python 3",
   "language": "python",
   "name": "python3"
  },
  "language_info": {
   "codemirror_mode": {
    "name": "ipython",
    "version": 3
   },
   "file_extension": ".py",
   "mimetype": "text/x-python",
   "name": "python",
   "nbconvert_exporter": "python",
   "pygments_lexer": "ipython3",
   "version": "3.6.8"
  }
 },
 "nbformat": 4,
 "nbformat_minor": 2
}
