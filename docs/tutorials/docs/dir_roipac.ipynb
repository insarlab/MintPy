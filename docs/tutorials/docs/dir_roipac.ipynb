{
 "cells": [
  {
   "cell_type": "markdown",
   "metadata": {},
   "source": [
    "### Example directory for ROI_PAC (rsmas version) ###\n",
    "\n",
    "```\n",
    "/GalapagosAlosAT133\n",
    "├── /PROCESS\n",
    "│   ├── bl_list.txt\n",
    "│   ├── /DONE\n",
    "│   │   ├── /IFGRAM_GalapagosT133F7160_7180AlosA_080304-100910_0920_-0272\n",
    "│   │   │   ├── 080304_100910_baseline.rsc\n",
    "│   │   │   ├── filt_080304-100910-sim_HDR_8rlks_c10_snap_connect.byt\n",
    "│   │   │   ├── filt_080304-100910-sim_HDR_8rlks_c10.unw\n",
    "│   │   │   ├── filt_080304-100910-sim_HDR_8rlks_c10.unw.rsc\n",
    "│   │   │   ├── filt_080304-100910-sim_HDR_8rlks.cor\n",
    "│   │   │   ├── filt_080304-100910-sim_HDR_8rlks.cor.rsc\n",
    "│   │   │   ├── radar_8rlks.hgt\n",
    "│   │   │   ├── radar_8rlks.hgt.rsc\n",
    "        ...\n",
    "│   ├── /GEO\n",
    "│   │   ├── /geo_100610-100910                  # master interferogram\n",
    "│   │   │   ├── geomap_8rlks.trans\n",
    "│   │   │   ├── geomap_8rlks.trans.rsc\n",
    "│   ├── ifgram_list.txt\n",
    "│   ├── master_ifgram.txt\n",
    "├── mintpy\n",
    "    └── GalapagosAlosAT133.txt\n",
    "```"
   ]
  }
 ],
 "metadata": {
  "kernelspec": {
   "display_name": "Python 3",
   "language": "python",
   "name": "python3"
  },
  "language_info": {
   "codemirror_mode": {
    "name": "ipython",
    "version": 3
   },
   "file_extension": ".py",
   "mimetype": "text/x-python",
   "name": "python",
   "nbconvert_exporter": "python",
   "pygments_lexer": "ipython3",
   "version": "3.6.8"
  }
 },
 "nbformat": 4,
 "nbformat_minor": 2
}
