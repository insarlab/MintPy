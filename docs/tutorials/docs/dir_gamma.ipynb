{
 "cells": [
  {
   "cell_type": "markdown",
   "metadata": {},
   "source": [
    "### Example directory for GAMMA ###\n",
    "\n",
    "```\n",
    "GalapagosEnvA2T061\n",
    "├── geom_master\n",
    "│   ├── sim_20040207_4rlks.UTM_TO_RDC\n",
    "│   ├── sim_20040207_4rlks.diff_par\n",
    "│   ├── sim_20040207_4rlks.rdc.dem (or sim_150911.hgt_sim)\n",
    "│   ├── sim_20040207_4rlks.utm.dem.par\n",
    "├── interferograms\n",
    "│   ├── 20030329_20030503\n",
    "│   │   ├── 20030329_20030503_4rlks.base_perp\n",
    "│   │   ├── 20030329_20030503_4rlks.baseline\n",
    "│   │   ├── 20030329_20030503_4rlks.off\n",
    "│   │   ├── 20030329_4rlks.ramp.corner\n",
    "│   │   ├── 20030329_4rlks.ramp.corner_full\n",
    "│   │   ├── 20030329_4rlks.ramp.par\n",
    "│   │   ├── 20030503_4rlks.ramp.par\n",
    "│   │   ├── filt_20030329_20030503_4rlks.cor\n",
    "│   │   ├── diff_filt_20030329_20030503_4rlks.unw\n",
    "│   ├── 20030329_20030607\n",
    "│   ...\n",
    "├── mintpy\n",
    "    └── GalapagosEnvA2T061.txt\n",
    "```"
   ]
  },
  {
   "cell_type": "code",
   "execution_count": null,
   "metadata": {},
   "outputs": [],
   "source": []
  }
 ],
 "metadata": {
  "kernelspec": {
   "display_name": "Python 3",
   "language": "python",
   "name": "python3"
  },
  "language_info": {
   "codemirror_mode": {
    "name": "ipython",
    "version": 3
   },
   "file_extension": ".py",
   "mimetype": "text/x-python",
   "name": "python",
   "nbconvert_exporter": "python",
   "pygments_lexer": "ipython3",
   "version": "3.6.8"
  }
 },
 "nbformat": 4,
 "nbformat_minor": 2
}
